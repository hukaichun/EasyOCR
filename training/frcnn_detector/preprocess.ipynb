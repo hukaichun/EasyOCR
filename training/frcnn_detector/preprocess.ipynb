{
 "cells": [
  {
   "cell_type": "code",
   "execution_count": 5,
   "metadata": {},
   "outputs": [],
   "source": [
    "import os\n",
    "\n",
    "import tqdm\n",
    "from PIL import Image, ImageOps\n",
    "import json"
   ]
  },
  {
   "cell_type": "code",
   "execution_count": 6,
   "metadata": {},
   "outputs": [],
   "source": [
    "data_root = \"all_data/val/\"\n",
    "\n",
    "with open(os.path.join(data_root, \"val.json\")) as f:\n",
    "    annotation = json.load(f)"
   ]
  },
  {
   "cell_type": "code",
   "execution_count": 7,
   "metadata": {},
   "outputs": [],
   "source": [
    "size_buffer = {}\n",
    "for img_key, _anno in tqdm.tqdm(annotation.items()):\n",
    "    _anno = annotation[img_key]\n",
    "    img_path = os.path.join(data_root, _anno[\"filename\"])\n",
    "    img = Image.open(img_path)\n",
    "    img = ImageOps.exif_transpose(img)\n",
    "    img_size = img.size\n",
    "    # print(img.size)\n",
    "    size_buffer.setdefault(img_size, []).append(img_key)\n",
    "    "
   ]
  },
  {
   "cell_type": "code",
   "execution_count": 18,
   "metadata": {},
   "outputs": [
    {
     "name": "stdout",
     "output_type": "stream",
     "text": [
      "dict_keys([(2048, 2448), (2452, 2056)])\n"
     ]
    }
   ],
   "source": [
    "print(size_buffer.keys())\n",
    "for k, v in size_buffer.items():\n",
    "    kk = (str(i) for i in k)\n",
    "    out_file_name = f\"target_{'_'.join(kk)}.json\"\n",
    "    sub_annotation = {\n",
    "        key: annotation[key] for key in v\n",
    "    }\n",
    "    with open(os.path.join(data_root, out_file_name), \"w\") as f:\n",
    "        json.dump(sub_annotation, f, indent=4)"
   ]
  }
 ],
 "metadata": {
  "kernelspec": {
   "display_name": "pyENV",
   "language": "python",
   "name": "python3"
  },
  "language_info": {
   "codemirror_mode": {
    "name": "ipython",
    "version": 3
   },
   "file_extension": ".py",
   "mimetype": "text/x-python",
   "name": "python",
   "nbconvert_exporter": "python",
   "pygments_lexer": "ipython3",
   "version": "3.8.10"
  }
 },
 "nbformat": 4,
 "nbformat_minor": 2
}
