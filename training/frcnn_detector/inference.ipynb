{
 "cells": [
  {
   "cell_type": "code",
   "execution_count": 1,
   "metadata": {},
   "outputs": [],
   "source": [
    "import tqdm\n",
    "import torch\n",
    "\n",
    "from model import FRCNNDetector, DetectedImage\n",
    "import dataset as DS\n",
    "import finetune as FT"
   ]
  },
  {
   "cell_type": "code",
   "execution_count": 2,
   "metadata": {},
   "outputs": [],
   "source": [
    "classes = ['1', '2', '3', '4', '5', 'blue', 'brown', 'green', 'red', 'yellow', 'parking', 'limit_h', 'limit_speed' ,'14', '15']\n",
    "model_path = \"./saved_models/fasterrcnn_20231119.pt-35\"\n",
    "detector = FRCNNDetector(classes, model_path=model_path)\n",
    "\n",
    "data_set_path = \"./all_data/val\"\n",
    "test_loader1 = DS.load_dataset(data_set_path, \"target_2048_2448.json\", batch_size=6)\n",
    "test_loader2 = DS.load_dataset(data_set_path, \"target_2452_2056.json\", batch_size=6)"
   ]
  },
  {
   "cell_type": "code",
   "execution_count": null,
   "metadata": {},
   "outputs": [],
   "source": []
  },
  {
   "cell_type": "code",
   "execution_count": 3,
   "metadata": {},
   "outputs": [
    {
     "name": "stderr",
     "output_type": "stream",
     "text": [
      "verification phase: 100%|██████████| 31/31 [00:33<00:00,  1.08s/it]\n",
      "verification phase:   1%|          | 1/177 [00:03<09:38,  3.28s/it]"
     ]
    }
   ],
   "source": [
    "FT.verification(test_loader1, test_loader2, model=detector)"
   ]
  }
 ],
 "metadata": {
  "kernelspec": {
   "display_name": "pyENV",
   "language": "python",
   "name": "python3"
  },
  "language_info": {
   "codemirror_mode": {
    "name": "ipython",
    "version": 3
   },
   "file_extension": ".py",
   "mimetype": "text/x-python",
   "name": "python",
   "nbconvert_exporter": "python",
   "pygments_lexer": "ipython3",
   "version": "3.8.10"
  }
 },
 "nbformat": 4,
 "nbformat_minor": 2
}
