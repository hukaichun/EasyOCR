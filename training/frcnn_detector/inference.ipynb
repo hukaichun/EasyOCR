{
 "cells": [
  {
   "cell_type": "code",
   "execution_count": 1,
   "metadata": {},
   "outputs": [],
   "source": [
    "import tqdm\n",
    "import torch\n",
    "\n",
    "from model import FRCNNDetector, DetectedImage\n",
    "import dataset as DS\n",
    "import finetune as FT"
   ]
  },
  {
   "cell_type": "code",
   "execution_count": 2,
   "metadata": {},
   "outputs": [],
   "source": [
    "classes = ['1', '2', '3', '4', '5', 'blue', 'brown', 'green', 'red', 'yellow', 'parking', 'limit_h', 'limit_speed' ,'14', '15']\n",
    "model_path = r\"C:\\Users\\MAGIC\\Desktop\\model\\frcnn\\best_map_frcnn_FrzModel.pth\"\n",
    "detector = FRCNNDetector(classes, model_path=model_path)\n",
    "\n",
    "data_set_path = r\"C:\\Users\\MAGIC\\Desktop\\model\\frcnn\\all_data\\test\"\n",
    "test_loader1 = DS.load_dataset(data_set_path, \"target_2048_2448.json\", batch_size=6)\n",
    "test_loader2 = DS.load_dataset(data_set_path, \"target_2452_2056.json\", batch_size=6)"
   ]
  },
  {
   "cell_type": "code",
   "execution_count": 3,
   "metadata": {},
   "outputs": [
    {
     "name": "stderr",
     "output_type": "stream",
     "text": [
      "verification phase: 100%|████████████████████████████████████████████████████████████| 178/178 [01:38<00:00,  1.80it/s]\n",
      "verification phase: 100%|██████████████████████████████████████████████████████████████| 31/31 [00:16<00:00,  1.87it/s]\n"
     ]
    },
    {
     "data": {
      "text/plain": [
       "{'map': array(0.64089453, dtype=float32),\n",
       " 'map_50': array(0.845104, dtype=float32),\n",
       " 'map_75': array(0.7571066, dtype=float32),\n",
       " 'map_small': array(0.414694, dtype=float32),\n",
       " 'map_medium': array(0.73486346, dtype=float32),\n",
       " 'map_large': array(0.84557694, dtype=float32),\n",
       " 'mar_1': array(0.5595267, dtype=float32),\n",
       " 'mar_10': array(0.6934992, dtype=float32),\n",
       " 'mar_100': array(0.69415873, dtype=float32),\n",
       " 'mar_small': array(0.4934267, dtype=float32),\n",
       " 'mar_medium': array(0.7945616, dtype=float32),\n",
       " 'mar_large': array(0.8861144, dtype=float32),\n",
       " 'map_per_class': array(-1., dtype=float32),\n",
       " 'mar_100_per_class': array(-1., dtype=float32)}"
      ]
     },
     "execution_count": 3,
     "metadata": {},
     "output_type": "execute_result"
    }
   ],
   "source": [
    "FT.verification(test_loader1, test_loader2, model=detector)"
   ]
  }
 ],
 "metadata": {
  "kernelspec": {
   "display_name": "Python 3 (ipykernel)",
   "language": "python",
   "name": "python3"
  },
  "language_info": {
   "codemirror_mode": {
    "name": "ipython",
    "version": 3
   },
   "file_extension": ".py",
   "mimetype": "text/x-python",
   "name": "python",
   "nbconvert_exporter": "python",
   "pygments_lexer": "ipython3",
   "version": "3.9.16"
  },
  "toc": {
   "base_numbering": 1,
   "nav_menu": {},
   "number_sections": true,
   "sideBar": true,
   "skip_h1_title": false,
   "title_cell": "Table of Contents",
   "title_sidebar": "Contents",
   "toc_cell": false,
   "toc_position": {},
   "toc_section_display": true,
   "toc_window_display": false
  }
 },
 "nbformat": 4,
 "nbformat_minor": 2
}
