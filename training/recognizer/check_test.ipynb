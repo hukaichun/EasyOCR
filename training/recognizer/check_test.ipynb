{
 "cells": [
  {
   "cell_type": "code",
   "execution_count": 12,
   "metadata": {},
   "outputs": [],
   "source": [
    "import os\n",
    "import typing as tp\n",
    "\n",
    "import cv2\n",
    "import pandas as pd\n",
    "import numpy as np\n",
    "import torch\n",
    "\n",
    "import finetune as FT\n",
    "import dataset as DS"
   ]
  },
  {
   "cell_type": "code",
   "execution_count": 13,
   "metadata": {},
   "outputs": [],
   "source": [
    "model_path = \"saved_models/epoch_6701.pth\"\n",
    "model, converter, reader = FT.get_easyocr_recognizer_and_training_converter(['ch_tra'], model_path)\n",
    "character = ''.join(converter.character[1:])"
   ]
  },
  {
   "cell_type": "code",
   "execution_count": 22,
   "metadata": {},
   "outputs": [],
   "source": [
    "path_to_raw_data = \"./all_data/0_v3_test_2_1/\"\n",
    "# path_to_raw_data = \"./all_data/0_v3_test\"\n",
    "testing_data_loader = DS.load_dataset(path_to_raw_data, character=character)\n"
   ]
  },
  {
   "cell_type": "code",
   "execution_count": 23,
   "metadata": {},
   "outputs": [],
   "source": [
    "DEVICE= torch.device('cuda' if torch.cuda.is_available() else 'cpu')\n",
    "criterion = torch.nn.CTCLoss(zero_infinity=True).to(DEVICE)"
   ]
  },
  {
   "cell_type": "code",
   "execution_count": 24,
   "metadata": {},
   "outputs": [
    {
     "name": "stderr",
     "output_type": "stream",
     "text": [
      "validation phase:   0%|          | 0/5 [00:00<?, ?it/s]"
     ]
    },
    {
     "name": "stderr",
     "output_type": "stream",
     "text": [
      "validation phase: 100%|██████████| 5/5 [00:02<00:00,  2.00it/s]\n"
     ]
    }
   ],
   "source": [
    "validation_info = FT.validation(model, criterion, converter, testing_data_loader)"
   ]
  },
  {
   "cell_type": "code",
   "execution_count": 25,
   "metadata": {},
   "outputs": [
    {
     "name": "stdout",
     "output_type": "stream",
     "text": [
      "{'CTCLoss': 2.508258, 'Accuracy': 0.30718954248366015, 'Norm_ED': 0.5840935027209537}\n"
     ]
    }
   ],
   "source": [
    "print(validation_info)"
   ]
  }
 ],
 "metadata": {
  "kernelspec": {
   "display_name": "pyENV",
   "language": "python",
   "name": "python3"
  },
  "language_info": {
   "codemirror_mode": {
    "name": "ipython",
    "version": 3
   },
   "file_extension": ".py",
   "mimetype": "text/x-python",
   "name": "python",
   "nbconvert_exporter": "python",
   "pygments_lexer": "ipython3",
   "version": "3.8.10"
  }
 },
 "nbformat": 4,
 "nbformat_minor": 2
}
