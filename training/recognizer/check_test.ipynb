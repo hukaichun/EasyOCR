{
 "cells": [
  {
   "cell_type": "code",
   "execution_count": 1,
   "metadata": {},
   "outputs": [],
   "source": [
    "import os\n",
    "import typing as tp\n",
    "\n",
    "import cv2\n",
    "import pandas as pd\n",
    "import numpy as np\n",
    "import torch\n",
    "\n",
    "import finetune as FT\n",
    "import dataset as DS"
   ]
  },
  {
   "cell_type": "code",
   "execution_count": 2,
   "metadata": {},
   "outputs": [],
   "source": [
    "# # IoU05_xf\n",
    "# model_path = r\"C:\\Users\\MAGIC\\Ching\\survey\\plan\\OCR\\8\\privateEasyOCR\\training\\recognizer\\saved_models\\IoU05_xf\\20240117_081337\\best_acc.pth\"\n",
    "# path_to_raw_data =r\"C:\\Users\\MAGIC\\Ching\\survey\\plan\\OCR\\8\\privateEasyOCR\\training\\recognizer\\all_data\\IoU05\\xf\\test\"\n",
    "\n",
    "# model, converter, reader = FT.get_easyocr_recognizer_and_training_converter(['ch_tra'], model_path)\n",
    "# character = ''.join(converter.character[1:])\n",
    "\n",
    "# testing_data_loader = DS.load_dataset(path_to_raw_data, character=character)\n",
    "\n",
    "# DEVICE= torch.device('cuda' if torch.cuda.is_available() else 'cpu')\n",
    "# criterion = torch.nn.CTCLoss(zero_infinity=True).to(DEVICE)\n",
    "\n",
    "# validation_info = FT.validation(model, criterion, converter, testing_data_loader)\n",
    "\n",
    "# print(path_to_raw_data.split('\\\\')[-3:-1])\n",
    "# print(validation_info)"
   ]
  },
  {
   "cell_type": "code",
   "execution_count": 3,
   "metadata": {},
   "outputs": [],
   "source": [
    "# # IoU05_xfs\n",
    "# model_path = r\"C:\\Users\\MAGIC\\Ching\\survey\\plan\\OCR\\8\\privateEasyOCR\\training\\recognizer\\saved_models\\IoU05_xfs\\20240117_020952\\best_acc.pth\"\n",
    "# path_to_raw_data =r\"C:\\Users\\MAGIC\\Ching\\survey\\plan\\OCR\\8\\privateEasyOCR\\training\\recognizer\\all_data\\IoU05\\xfs\\test\"\n",
    "\n",
    "# model, converter, reader = FT.get_easyocr_recognizer_and_training_converter(['ch_tra'], model_path)\n",
    "# character = ''.join(converter.character[1:])\n",
    "\n",
    "# testing_data_loader = DS.load_dataset(path_to_raw_data, character=character)\n",
    "\n",
    "# DEVICE= torch.device('cuda' if torch.cuda.is_available() else 'cpu')\n",
    "# criterion = torch.nn.CTCLoss(zero_infinity=True).to(DEVICE)\n",
    "\n",
    "# validation_info = FT.validation(model, criterion, converter, testing_data_loader)\n",
    "\n",
    "# print(path_to_raw_data.split('\\\\')[-3:-1])\n",
    "# print(validation_info)"
   ]
  },
  {
   "cell_type": "code",
   "execution_count": 4,
   "metadata": {},
   "outputs": [
    {
     "name": "stderr",
     "output_type": "stream",
     "text": [
      "validation phase: 100%|██████████████████████████████████████████████████████████████████| 1/1 [00:03<00:00,  3.09s/it]"
     ]
    },
    {
     "name": "stdout",
     "output_type": "stream",
     "text": [
      "[0.08545882254838943]\n",
      "['長仁速公']\n",
      "['demo', 'xfc']\n",
      "{'CTCLoss': 13.405128, 'Accuracy': 0.0, 'Norm_ED': 0.0}\n"
     ]
    },
    {
     "name": "stderr",
     "output_type": "stream",
     "text": [
      "\n"
     ]
    }
   ],
   "source": [
    "# demo\n",
    "model_path = r\"C:\\Users\\MAGIC\\Ching\\survey\\plan\\OCR\\8\\privateEasyOCR\\training\\recognizer\\saved_models\\IoU05_xfs\\20240117_020952\\best_acc.pth\"\n",
    "path_to_raw_data =r\"C:\\Users\\MAGIC\\Ching\\survey\\plan\\rawdata_all\\7types_v2\\demo\\xfc\\frcnn00_craft04\"\n",
    "\n",
    "model, converter, reader = FT.get_easyocr_recognizer_and_training_converter(['ch_tra'], model_path)\n",
    "character = ''.join(converter.character[1:])\n",
    "\n",
    "testing_data_loader = DS.load_dataset(path_to_raw_data, character=character)\n",
    "\n",
    "DEVICE= torch.device('cuda' if torch.cuda.is_available() else 'cpu')\n",
    "criterion = torch.nn.CTCLoss(zero_infinity=True).to(DEVICE)\n",
    "\n",
    "validation_info = FT.validation(model, criterion, converter, testing_data_loader, path_to_raw_data)\n",
    "\n",
    "print(path_to_raw_data.split('\\\\')[-3:-1])\n",
    "print(validation_info)"
   ]
  },
  {
   "cell_type": "code",
   "execution_count": null,
   "metadata": {},
   "outputs": [],
   "source": []
  },
  {
   "cell_type": "code",
   "execution_count": null,
   "metadata": {},
   "outputs": [],
   "source": []
  },
  {
   "cell_type": "code",
   "execution_count": null,
   "metadata": {},
   "outputs": [],
   "source": []
  }
 ],
 "metadata": {
  "kernelspec": {
   "display_name": "Python 3 (ipykernel)",
   "language": "python",
   "name": "python3"
  },
  "language_info": {
   "codemirror_mode": {
    "name": "ipython",
    "version": 3
   },
   "file_extension": ".py",
   "mimetype": "text/x-python",
   "name": "python",
   "nbconvert_exporter": "python",
   "pygments_lexer": "ipython3",
   "version": "3.9.16"
  },
  "toc": {
   "base_numbering": 1,
   "nav_menu": {},
   "number_sections": true,
   "sideBar": true,
   "skip_h1_title": false,
   "title_cell": "Table of Contents",
   "title_sidebar": "Contents",
   "toc_cell": false,
   "toc_position": {},
   "toc_section_display": true,
   "toc_window_display": false
  }
 },
 "nbformat": 4,
 "nbformat_minor": 2
}
