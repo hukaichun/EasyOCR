{
 "cells": [
  {
   "cell_type": "code",
   "execution_count": 1,
   "metadata": {},
   "outputs": [],
   "source": [
    "import os\n",
    "import typing as tp\n",
    "\n",
    "import cv2\n",
    "import pandas as pd\n",
    "import numpy as np\n",
    "\n",
    "import finetune as FT\n",
    "import dataset as DS"
   ]
  },
  {
   "cell_type": "code",
   "execution_count": 2,
   "metadata": {},
   "outputs": [],
   "source": [
    "def cropping_image(img:np.ndarray, bboxes:tp.List[tp.Tuple[np.ndarray, np.ndarray]]):\n",
    "    result = []\n",
    "    for bbox in bboxes:\n",
    "        x0y0, x1y1 = bbox\n",
    "        x0y0 = np.maximum(x0y0, 0)\n",
    "        x1y1 = np.maximum(x1y1, 0)\n",
    "        x0, y0 = x0y0.astype(int)\n",
    "        x1, y1 = x1y1.astype(int)\n",
    "        # print(img.shape)\n",
    "        # print(bbox)\n",
    "        sub_img = img[y0: y1, x0: x1]\n",
    "        assert sub_img.size >0, bbox\n",
    "        result.append(sub_img)\n",
    "    return result"
   ]
  },
  {
   "cell_type": "code",
   "execution_count": 3,
   "metadata": {},
   "outputs": [],
   "source": [
    "def plot_bbox(image:np.ndarray, bbox_list:tp.List[tp.Tuple[np.ndarray, np.ndarray]]) -> np.ndarray:\n",
    "    _image = image.copy()\n",
    "    for bbox in bbox_list:\n",
    "        x0y0, x1y1 = bbox\n",
    "        # print(x0y0, x1y1)\n",
    "        cv2.rectangle(_image, x0y0.astype(int), x1y1.astype(int), color=(255,0,0), thickness=1)\n",
    "    return _image\n",
    "\n",
    "    "
   ]
  },
  {
   "cell_type": "code",
   "execution_count": 4,
   "metadata": {},
   "outputs": [],
   "source": [
    "model_path = \"saved_models/epoch_6701.pth\"\n",
    "model, converter, reader = FT.get_easyocr_recognizer_and_training_converter(['ch_tra'], model_path)\n",
    "character = ''.join(converter.character[1:])\n",
    "# print(character)"
   ]
  },
  {
   "cell_type": "code",
   "execution_count": 5,
   "metadata": {},
   "outputs": [
    {
     "name": "stdout",
     "output_type": "stream",
     "text": [
      "153\n",
      "RangeIndex(start=0, stop=153, step=1)\n"
     ]
    }
   ],
   "source": [
    "path_to_raw_data = \"./all_data/0_v3_test/\"\n",
    "dataset = DS.OCRDataset(root=path_to_raw_data, character=character, label_max_length=34, rgb=True)\n",
    "print(len(dataset))\n",
    "print(dataset.df.index)"
   ]
  },
  {
   "cell_type": "code",
   "execution_count": 6,
   "metadata": {},
   "outputs": [],
   "source": [
    "all_image = []\n",
    "all_pred_str = []\n",
    "all_conf = []\n",
    "all_label = []\n",
    "all_src = []\n",
    "\n",
    "image_with_bbox_list = []\n",
    "image_with_bbox_filename = []\n",
    "\n",
    "for idx in range(len(dataset)):\n",
    "    image_pil, label = dataset[idx]\n",
    "    image = np.array(image_pil)\n",
    "\n",
    "    ocr_pred = reader.readtext(image)\n",
    "    if ocr_pred:\n",
    "        bbox_raw_list = [np.asarray(bbox) for bbox, pred_str, conf in ocr_pred]\n",
    "        bbox_list = [(np.min(bbox, axis=0), np.max(bbox, axis=0)) for bbox in bbox_raw_list]\n",
    "        pred_strs = [pred_str for bbox, pred_str, conf in ocr_pred]\n",
    "        conf_score = [conf for bbox, pred_str, conf in ocr_pred]\n",
    "        # print(len(bbox_raw_list))\n",
    "        # print(len(conf_score))\n",
    "        # assert False\n",
    "        labels = [label]*len(conf_score)\n",
    "        srcs = [dataset.df.loc[idx, \"filename\"]]*len(conf_score)\n",
    "        sub_images = cropping_image(image, bbox_list)\n",
    "\n",
    "        image_with_bbox = plot_bbox(image, bbox_list)\n",
    "        image_with_bbox_list.append(image_with_bbox)\n",
    "        image_with_bbox_filename.append(dataset.df.loc[idx, \"filename\"])\n",
    "    else:\n",
    "        sub_images = [image]\n",
    "        pred_strs = [\"\"]\n",
    "        conf_score = [None]\n",
    "        labels = [label]\n",
    "        srcs = [dataset.df.loc[idx, \"filename\"]]\n",
    "\n",
    "    all_image.extend(sub_images)\n",
    "    all_pred_str.extend(pred_strs)\n",
    "    all_conf.extend(conf_score)\n",
    "    all_label.extend(labels)\n",
    "    all_src.extend(srcs)\n",
    "\n",
    "\n",
    "    \n",
    "    # plt.imshow(image_with_bbox)\n",
    "\n",
    "# print(all_pred_str)\n",
    "# print(all_label)\n",
    "# print(all_image)\n",
    "\n",
    "# idx = 0\n",
    "# for image_pil, label in dataset:\n",
    "#     print(idx)\n",
    "#     idx+=1\n",
    "#     # "
   ]
  },
  {
   "cell_type": "code",
   "execution_count": 7,
   "metadata": {},
   "outputs": [],
   "source": [
    "output_dir = \"./all_data/0_v3_CRAFT_cropped/\"\n",
    "os.makedirs(output_dir, exist_ok=True)\n",
    "\n",
    "df = pd.DataFrame(columns=[\"filename\", \"words\", \"pred_str\", \"conf_score\", \"src_file\"])\n",
    "\n",
    "for idx, (image, label, pred_str, src, conf) in enumerate(zip(all_image, all_label, all_pred_str, all_src, all_conf)):\n",
    "    filename = f\"{idx}.jpg\"\n",
    "    df.loc[idx, \"filename\"] = filename\n",
    "    df.loc[idx, \"words\"] = label\n",
    "    df.loc[idx, \"pred_str\"] = pred_str\n",
    "    df.loc[idx, \"conf_score\"] = conf\n",
    "    df.loc[idx, \"src_file\"] = src\n",
    "\n",
    "    cv2.imwrite(os.path.join(output_dir, filename), cv2.cvtColor(image, cv2.COLOR_RGB2BGR))\n",
    "\n",
    "df.to_csv(os.path.join(output_dir, \"labels.csv\"))\n",
    "\n",
    "    "
   ]
  },
  {
   "cell_type": "code",
   "execution_count": 8,
   "metadata": {},
   "outputs": [],
   "source": [
    "log_dir = os.path.join(output_dir, \"info\")\n",
    "os.makedirs(log_dir, exist_ok=True)\n",
    "\n",
    "for image, file_name in zip(image_with_bbox_list, image_with_bbox_filename):\n",
    "    full_file_name = os.path.join(log_dir, file_name)\n",
    "    cv2.imwrite(full_file_name, image)"
   ]
  },
  {
   "cell_type": "code",
   "execution_count": null,
   "metadata": {},
   "outputs": [],
   "source": []
  },
  {
   "cell_type": "code",
   "execution_count": null,
   "metadata": {},
   "outputs": [],
   "source": []
  },
  {
   "cell_type": "code",
   "execution_count": null,
   "metadata": {},
   "outputs": [],
   "source": []
  },
  {
   "cell_type": "code",
   "execution_count": null,
   "metadata": {},
   "outputs": [],
   "source": []
  }
 ],
 "metadata": {
  "kernelspec": {
   "display_name": "pyENV",
   "language": "python",
   "name": "python3"
  },
  "language_info": {
   "codemirror_mode": {
    "name": "ipython",
    "version": 3
   },
   "file_extension": ".py",
   "mimetype": "text/x-python",
   "name": "python",
   "nbconvert_exporter": "python",
   "pygments_lexer": "ipython3",
   "version": "3.8.10"
  }
 },
 "nbformat": 4,
 "nbformat_minor": 2
}
