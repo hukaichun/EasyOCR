{
 "cells": [
  {
   "cell_type": "code",
   "execution_count": 1,
   "metadata": {},
   "outputs": [],
   "source": [
    "import torch\n",
    "import torch.optim as optim\n",
    "import yaml\n",
    "\n",
    "import dataset as DS\n",
    "import finetune as FT\n",
    "\n",
    "import logging\n",
    "logging.basicConfig(level=logging.WARNING)\n"
   ]
  },
  {
   "cell_type": "code",
   "execution_count": 7,
   "metadata": {},
   "outputs": [
    {
     "ename": "NameError",
     "evalue": "name '__file__' is not defined",
     "output_type": "error",
     "traceback": [
      "\u001b[0;31m---------------------------------------------------------------------------\u001b[0m",
      "\u001b[0;31mNameError\u001b[0m                                 Traceback (most recent call last)",
      "\u001b[1;32m/home/kai/ocr_workspace/EasyOCR/finetune/training_flow.ipynb Cell 2\u001b[0m line \u001b[0;36m2\n\u001b[1;32m      <a href='vscode-notebook-cell:/home/kai/ocr_workspace/EasyOCR/finetune/training_flow.ipynb#X16sZmlsZQ%3D%3D?line=0'>1</a>\u001b[0m \u001b[39mimport\u001b[39;00m \u001b[39mos\u001b[39;00m\n\u001b[0;32m----> <a href='vscode-notebook-cell:/home/kai/ocr_workspace/EasyOCR/finetune/training_flow.ipynb#X16sZmlsZQ%3D%3D?line=1'>2</a>\u001b[0m file_root \u001b[39m=\u001b[39m os\u001b[39m.\u001b[39mpath\u001b[39m.\u001b[39mbasename(\u001b[39m__file__\u001b[39;49m)\n\u001b[1;32m      <a href='vscode-notebook-cell:/home/kai/ocr_workspace/EasyOCR/finetune/training_flow.ipynb#X16sZmlsZQ%3D%3D?line=2'>3</a>\u001b[0m \u001b[39mprint\u001b[39m(file_root)\n\u001b[1;32m      <a href='vscode-notebook-cell:/home/kai/ocr_workspace/EasyOCR/finetune/training_flow.ipynb#X16sZmlsZQ%3D%3D?line=4'>5</a>\u001b[0m \u001b[39mwith\u001b[39;00m \u001b[39mopen\u001b[39m(\u001b[39m\"\u001b[39m\u001b[39m./config_files/fintuning_config.yaml\u001b[39m\u001b[39m\"\u001b[39m, \u001b[39m'\u001b[39m\u001b[39mr\u001b[39m\u001b[39m'\u001b[39m, encoding\u001b[39m=\u001b[39m\u001b[39m\"\u001b[39m\u001b[39mutf8\u001b[39m\u001b[39m\"\u001b[39m) \u001b[39mas\u001b[39;00m f:\n",
      "\u001b[0;31mNameError\u001b[0m: name '__file__' is not defined"
     ]
    }
   ],
   "source": [
    "\n",
    "\n",
    "with open(\"./config_files/fintuning_config.yaml\", 'r', encoding=\"utf8\") as f:\n",
    "    general_config = yaml.safe_load(f)\n",
    "\n",
    "with open(general_config[\"data_config\"], \"r\", encoding=\"utf8\") as f:\n",
    "    data_config = yaml.safe_load(f)\n",
    "    \n",
    "with open(general_config[\"model_config\"], \"r\", encoding=\"utf8\") as f:\n",
    "    model_config = yaml.safe_load(f)\n",
    "\n",
    "with open(general_config[\"training_config\"], \"r\", encoding=\"utf8\") as f:\n",
    "    training_config = yaml.safe_load(f)"
   ]
  },
  {
   "cell_type": "code",
   "execution_count": 2,
   "metadata": {},
   "outputs": [],
   "source": [
    "FT.LOGGER.setLevel(logging.INFO)\n",
    "DS.LOGGER.setLevel(logging.INFO)"
   ]
  },
  {
   "cell_type": "code",
   "execution_count": null,
   "metadata": {},
   "outputs": [],
   "source": []
  },
  {
   "cell_type": "code",
   "execution_count": 3,
   "metadata": {},
   "outputs": [],
   "source": [
    "model, converter = FT.get_easyocr_recognizer_and_training_converter([\"ch_tra\"])\n"
   ]
  },
  {
   "cell_type": "code",
   "execution_count": 4,
   "metadata": {},
   "outputs": [],
   "source": [
    "freeze_FeatureFxtraction = True\n",
    "freeze_SequenceModeling = False\n",
    "\n",
    "if freeze_FeatureFxtraction:\n",
    "    for param in model.module.FeatureExtraction.parameters():\n",
    "        param.requires_grad = False\n",
    "if freeze_SequenceModeling:\n",
    "    for param in model.module.SequenceModeling.parameters():\n",
    "        param.requires_grad = False"
   ]
  },
  {
   "cell_type": "code",
   "execution_count": 5,
   "metadata": {},
   "outputs": [],
   "source": [
    "# define loss\n",
    "DEVICE= torch.device('cuda' if torch.cuda.is_available() else 'cpu')\n",
    "criterion = torch.nn.CTCLoss(zero_infinity=True).to(DEVICE)\n",
    "# loss_avg = Averager()"
   ]
  },
  {
   "cell_type": "code",
   "execution_count": 6,
   "metadata": {},
   "outputs": [],
   "source": [
    "# define optimizer \n",
    "lr = 1.\n",
    "rho = 0.95\n",
    "eps = 1e-8\n",
    "filtered_parameters = [p for p in filter(lambda p:p.requires_grad, model.parameters())]\n",
    "optimizer = optim.Adadelta(filtered_parameters, lr=lr, rho=rho, eps=eps)"
   ]
  },
  {
   "cell_type": "code",
   "execution_count": 7,
   "metadata": {},
   "outputs": [
    {
     "name": "stderr",
     "output_type": "stream",
     "text": [
      "INFO:dataset:dataset: ./all_data/en_train\n",
      "WARNING:dataset:Ignore data whose label is longer than 34: \n",
      "    filename                                words\n",
      "64    44.jpg  (895261) Greenery {Wemyss-Islamist}\n",
      "402  454.jpg  Tuktamysheva (resin) Technologies !\n",
      "427  490.jpg  Fourteenth . Naiads injurious_Issue\n",
      "498  571.jpg  Equalization LIGURIA carbohydrate [\n",
      "781  833.jpg  Buys-Horwood misinterpreting Twitch\n",
      "INFO:dataset:dataset: ./all_data/en_val\n",
      "WARNING:dataset:Ignore data whose label is longer than 34: \n",
      "    filename                                words\n",
      "64    44.jpg  (895261) Greenery {Wemyss-Islamist}\n",
      "402  454.jpg  Tuktamysheva (resin) Technologies !\n",
      "427  490.jpg  Fourteenth . Naiads injurious_Issue\n",
      "498  571.jpg  Equalization LIGURIA carbohydrate [\n",
      "781  833.jpg  Buys-Horwood misinterpreting Twitch\n"
     ]
    }
   ],
   "source": [
    "# setup dataset\n",
    "character = ''.join(converter.character[1:])\n",
    "# print(character)\n",
    "\n",
    "train_loader = DS.load_dataset(\"./all_data/en_train\", character=character)\n",
    "\n",
    "validation_set_roots = [\"./all_data/en_val\"]\n",
    "val_loader = DS.load_dataset(*validation_set_roots, character=character)"
   ]
  },
  {
   "cell_type": "code",
   "execution_count": null,
   "metadata": {},
   "outputs": [],
   "source": [
    "\n"
   ]
  },
  {
   "cell_type": "code",
   "execution_count": null,
   "metadata": {},
   "outputs": [],
   "source": []
  },
  {
   "cell_type": "code",
   "execution_count": 8,
   "metadata": {},
   "outputs": [
    {
     "name": "stderr",
     "output_type": "stream",
     "text": [
      "training phase: 100%|██████████| 28/28 [00:15<00:00,  1.79it/s]\n",
      "INFO:finetune:[finetune_epoch]\n",
      "+---------+----------+---------+\n",
      "| CTCLoss | accuracy | norm_ED |\n",
      "+---------+----------+---------+\n",
      "|  2.426  |    --    |   --    |\n",
      "+---------+----------+---------+\n",
      "validation phase: 100%|██████████| 28/28 [00:17<00:00,  1.63it/s]\n",
      "INFO:finetune:[validation]\n",
      "+---------+----------+---------+\n",
      "| CTCLoss | accuracy | norm_ED |\n",
      "+---------+----------+---------+\n",
      "|  1.522  |  0.262   |  0.707  |\n",
      "+---------+----------+---------+\n",
      "training phase: 100%|██████████| 28/28 [00:13<00:00,  2.04it/s]\n",
      "INFO:finetune:[finetune_epoch]\n",
      "+---------+----------+---------+\n",
      "| CTCLoss | accuracy | norm_ED |\n",
      "+---------+----------+---------+\n",
      "|  1.498  |    --    |   --    |\n",
      "+---------+----------+---------+\n",
      "validation phase:  18%|█▊        | 5/28 [00:03<00:13,  1.68it/s]"
     ]
    }
   ],
   "source": [
    "for epoch in range(10):\n",
    "    result = FT.finetune_epoch(model, criterion, converter, optimizer, training_set_loader=train_loader)\n",
    "    # print(epoch, result.mean(), result.std())\n",
    "    val_result = FT.validation(model, criterion, converter, val_loader)\n",
    "    # print(epoch, val_result)\n",
    "    torch.save(model.state_dict(), f'./saved_models/OvO/epoch_{epoch+1}.pth')\n",
    "\n"
   ]
  },
  {
   "cell_type": "code",
   "execution_count": null,
   "metadata": {},
   "outputs": [],
   "source": []
  },
  {
   "cell_type": "code",
   "execution_count": null,
   "metadata": {},
   "outputs": [],
   "source": []
  }
 ],
 "metadata": {
  "kernelspec": {
   "display_name": "pyENV",
   "language": "python",
   "name": "python3"
  },
  "language_info": {
   "codemirror_mode": {
    "name": "ipython",
    "version": 3
   },
   "file_extension": ".py",
   "mimetype": "text/x-python",
   "name": "python",
   "nbconvert_exporter": "python",
   "pygments_lexer": "ipython3",
   "version": "3.8.10"
  }
 },
 "nbformat": 4,
 "nbformat_minor": 2
}
