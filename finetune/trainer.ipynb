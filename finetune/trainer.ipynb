{
 "cells": [
  {
   "cell_type": "code",
   "execution_count": 1,
   "metadata": {
    "ExecuteTime": {
     "end_time": "2021-07-23T04:19:23.488642Z",
     "start_time": "2021-07-23T04:19:21.854534Z"
    }
   },
   "outputs": [],
   "source": [
    "import os\n",
    "import torch.backends.cudnn as cudnn\n",
    "import yaml\n",
    "from train_modified import train\n",
    "from utils import AttrDict\n",
    "import pandas as pd"
   ]
  },
  {
   "cell_type": "code",
   "execution_count": 2,
   "metadata": {
    "ExecuteTime": {
     "end_time": "2021-07-23T04:19:23.885144Z",
     "start_time": "2021-07-23T04:19:23.880564Z"
    },
    "code_folding": []
   },
   "outputs": [],
   "source": [
    "cudnn.benchmark = True\n",
    "cudnn.deterministic = False"
   ]
  },
  {
   "cell_type": "code",
   "execution_count": 3,
   "metadata": {
    "ExecuteTime": {
     "end_time": "2021-07-23T04:19:24.119144Z",
     "start_time": "2021-07-23T04:19:24.112032Z"
    },
    "code_folding": [
     0
    ]
   },
   "outputs": [],
   "source": [
    "def get_config(file_path):\n",
    "    with open(file_path, 'r', encoding=\"utf8\") as stream:\n",
    "        opt = yaml.safe_load(stream)\n",
    "    opt = AttrDict(opt)\n",
    "    if opt.lang_char == 'None':\n",
    "        characters = ''\n",
    "        for data in opt['select_data'].split('-'):\n",
    "            csv_path = os.path.join(opt['train_data'], data, 'labels.csv')\n",
    "            df = pd.read_csv(csv_path, sep='^([^,]+),', engine='python', usecols=['filename', 'words'], keep_default_na=False)\n",
    "            all_char = ''.join(df['words'])\n",
    "            characters += ''.join(set(all_char))\n",
    "        characters = sorted(set(characters))\n",
    "        opt.character= ''.join(characters)\n",
    "    else:\n",
    "        opt.character = opt.number + opt.symbol + opt.lang_char\n",
    "    os.makedirs(f'./saved_models/{opt.experiment_name}', exist_ok=True)\n",
    "    return opt"
   ]
  },
  {
   "cell_type": "code",
   "execution_count": 4,
   "metadata": {
    "ExecuteTime": {
     "end_time": "2021-07-23T04:49:07.045060Z",
     "start_time": "2021-07-23T04:20:15.050992Z"
    }
   },
   "outputs": [
    {
     "name": "stdout",
     "output_type": "stream",
     "text": [
      "number : 0123456789\n",
      "symbol : !\"#$%&'()*+,-./:;<=>?@[\\]^_`{|}~ €\n",
      "lang_char : ABCDEFGHIJKLMNOPQRSTUVWXYZabcdefghijklmnopqrstuvwxyz\n",
      "experiment_name : en_filtered\n",
      "train_data : all_data\n",
      "valid_data : all_data/en_val\n",
      "manualSeed : 1111\n",
      "workers : 6\n",
      "batch_size : 32\n",
      "num_iter : 10\n",
      "valInterval : 5\n",
      "saved_model : \n",
      "FT : False\n",
      "optim : False\n",
      "lr : 0.0001\n",
      "beta1 : 0.9\n",
      "rho : 0.95\n",
      "eps : 1e-08\n",
      "grad_clip : 5\n",
      "select_data : en_train\n",
      "batch_ratio : 1\n",
      "total_data_usage_ratio : 1.0\n",
      "batch_max_length : 34\n",
      "imgH : 64\n",
      "imgW : 600\n",
      "rgb : False\n",
      "contrast_adjust : 0.0\n",
      "sensitive : True\n",
      "PAD : True\n",
      "data_filtering_off : False\n",
      "Transformation : None\n",
      "FeatureExtraction : VGG\n",
      "SequenceModeling : BiLSTM\n",
      "Prediction : CTC\n",
      "num_fiducial : 20\n",
      "input_channel : 1\n",
      "output_channel : 256\n",
      "hidden_size : 256\n",
      "decode : greedy\n",
      "new_prediction : False\n",
      "freeze_FeatureFxtraction : False\n",
      "freeze_SequenceModeling : False\n",
      "character : 0123456789!\"#$%&'()*+,-./:;<=>?@[\\]^_`{|}~ €ABCDEFGHIJKLMNOPQRSTUVWXYZabcdefghijklmnopqrstuvwxyz\n",
      "Filtering the images containing characters which are not in opt.character\n",
      "Filtering the images whose label is longer than opt.batch_max_length\n",
      "['en_train']\n"
     ]
    },
    {
     "ename": "AssertionError",
     "evalue": "",
     "output_type": "error",
     "traceback": [
      "\u001b[0;31m---------------------------------------------------------------------------\u001b[0m",
      "\u001b[0;31mAssertionError\u001b[0m                            Traceback (most recent call last)",
      "\u001b[1;32m/home/kai/ocr_workspace/EasyOCR/trainer/trainer.ipynb Cell 4\u001b[0m line \u001b[0;36m1\n\u001b[1;32m     <a href='vscode-notebook-cell:/home/kai/ocr_workspace/EasyOCR/trainer/trainer.ipynb#W3sZmlsZQ%3D%3D?line=10'>11</a>\u001b[0m opt \u001b[39m=\u001b[39m get_config(\u001b[39m\"\u001b[39m\u001b[39mconfig_files/en_filtered_config.yaml\u001b[39m\u001b[39m\"\u001b[39m)\n\u001b[1;32m     <a href='vscode-notebook-cell:/home/kai/ocr_workspace/EasyOCR/trainer/trainer.ipynb#W3sZmlsZQ%3D%3D?line=12'>13</a>\u001b[0m \u001b[39m# print(['[blank]']+list(opt.character))\u001b[39;00m\n\u001b[1;32m     <a href='vscode-notebook-cell:/home/kai/ocr_workspace/EasyOCR/trainer/trainer.ipynb#W3sZmlsZQ%3D%3D?line=13'>14</a>\u001b[0m \u001b[39m# print(reader.converter.character)\u001b[39;00m\n\u001b[1;32m     <a href='vscode-notebook-cell:/home/kai/ocr_workspace/EasyOCR/trainer/trainer.ipynb#W3sZmlsZQ%3D%3D?line=14'>15</a>\u001b[0m \n\u001b[1;32m     <a href='vscode-notebook-cell:/home/kai/ocr_workspace/EasyOCR/trainer/trainer.ipynb#W3sZmlsZQ%3D%3D?line=15'>16</a>\u001b[0m \u001b[39m# assert False\u001b[39;00m\n\u001b[0;32m---> <a href='vscode-notebook-cell:/home/kai/ocr_workspace/EasyOCR/trainer/trainer.ipynb#W3sZmlsZQ%3D%3D?line=16'>17</a>\u001b[0m train(opt, amp\u001b[39m=\u001b[39;49m\u001b[39mFalse\u001b[39;49;00m, model\u001b[39m=\u001b[39;49mreader\u001b[39m.\u001b[39;49mrecognizer)\n",
      "File \u001b[0;32m~/ocr_workspace/EasyOCR/trainer/train_modified.py:56\u001b[0m, in \u001b[0;36mtrain\u001b[0;34m(opt, show_number, amp, model, converter)\u001b[0m\n\u001b[1;32m     54\u001b[0m opt\u001b[39m.\u001b[39mselect_data \u001b[39m=\u001b[39m opt\u001b[39m.\u001b[39mselect_data\u001b[39m.\u001b[39msplit(\u001b[39m'\u001b[39m\u001b[39m-\u001b[39m\u001b[39m'\u001b[39m)\n\u001b[1;32m     55\u001b[0m \u001b[39mprint\u001b[39m(opt\u001b[39m.\u001b[39mselect_data)\n\u001b[0;32m---> 56\u001b[0m \u001b[39massert\u001b[39;00m \u001b[39mFalse\u001b[39;00m\n\u001b[1;32m     59\u001b[0m opt\u001b[39m.\u001b[39mbatch_ratio \u001b[39m=\u001b[39m opt\u001b[39m.\u001b[39mbatch_ratio\u001b[39m.\u001b[39msplit(\u001b[39m'\u001b[39m\u001b[39m-\u001b[39m\u001b[39m'\u001b[39m)\n\u001b[1;32m     60\u001b[0m train_dataset \u001b[39m=\u001b[39m Batch_Balanced_Dataset(opt)\n",
      "\u001b[0;31mAssertionError\u001b[0m: "
     ]
    }
   ],
   "source": [
    "import sys\n",
    "sys.path.insert(0, '..')\n",
    "import easyocr\n",
    "\n",
    "\n",
    "\n",
    "reader = easyocr.Reader([\"en\"])\n",
    "\n",
    "\n",
    "\n",
    "opt = get_config(\"config_files/en_filtered_config.yaml\")\n",
    "\n",
    "# print(['[blank]']+list(opt.character))\n",
    "# print(reader.converter.character)\n",
    "\n",
    "# assert False\n",
    "train(opt, amp=False, model=reader.recognizer, converter=reader.converter)"
   ]
  },
  {
   "cell_type": "code",
   "execution_count": null,
   "metadata": {},
   "outputs": [],
   "source": []
  }
 ],
 "metadata": {
  "kernelspec": {
   "display_name": "Python 3",
   "language": "python",
   "name": "python3"
  },
  "language_info": {
   "codemirror_mode": {
    "name": "ipython",
    "version": 3
   },
   "file_extension": ".py",
   "mimetype": "text/x-python",
   "name": "python",
   "nbconvert_exporter": "python",
   "pygments_lexer": "ipython3",
   "version": "3.8.10"
  }
 },
 "nbformat": 4,
 "nbformat_minor": 2
}
