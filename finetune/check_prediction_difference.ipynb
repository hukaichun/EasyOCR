{
 "cells": [
  {
   "cell_type": "markdown",
   "id": "4b8f9eb4",
   "metadata": {},
   "source": [
    "# my metric"
   ]
  },
  {
   "cell_type": "code",
   "execution_count": 13,
   "id": "d9b5f3fe",
   "metadata": {},
   "outputs": [],
   "source": [
    "import os\n",
    "# os.environ['KMP_DUPLICATE_LIB_OK']='True'"
   ]
  },
  {
   "cell_type": "code",
   "execution_count": 14,
   "id": "420db9ed",
   "metadata": {},
   "outputs": [],
   "source": [
    "import torch\n",
    "import easyocr\n",
    "import dataset as DS\n",
    "import pandas as pd\n",
    "from finetune import validation #as testing\n",
    "from finetune import recognize\n",
    "\n",
    "import typing as tp\n",
    "from utils import CTCLabelConverter\n",
    "\n",
    "from nltk.metrics.distance import edit_distance\n",
    "import numpy as np"
   ]
  },
  {
   "cell_type": "code",
   "execution_count": 15,
   "id": "8789fdec",
   "metadata": {},
   "outputs": [],
   "source": [
    "def load_readers_ori(model_path):\n",
    "    reader = easyocr.Reader(['ch_tra'])\n",
    "    checkpoint = torch.load(model_path)\n",
    "    reader.recognizer.load_state_dict(checkpoint)\n",
    "    return reader\n",
    "\n",
    "def get_preds(reader, image_folder):\n",
    "    # t0 = time.time()\n",
    "    preds = {}\n",
    "    for filename in os.listdir(image_folder):\n",
    "        if filename.endswith('.jpg'): #.jpg\n",
    "            image_path = os.path.join(image_folder, filename)\n",
    "            ocr_result = reader.readtext(image_path)\n",
    "            ocr_text = ' '.join([result[1] for result in ocr_result])\n",
    "            preds[filename] = ocr_text\n",
    "#     print('time spent: ', time.time()-t0)\n",
    "#     print(f'preds:')\n",
    "#     print(preds)\n",
    "    return preds\n",
    "\n",
    "def calculate_scores(GTs, preds):\n",
    "    n_correct = 0\n",
    "    norm_EDs = []\n",
    "    confidence_score_list = []\n",
    "\n",
    "    for image_name, gt_label in GTs.items():\n",
    "        pred_label = preds.get(image_name, '')  \n",
    "        if pred_label == gt_label:\n",
    "            n_correct += 1\n",
    "\n",
    "        if len(gt_label) == 0 or len(pred_label) == 0:\n",
    "            norm_ED = 0\n",
    "        elif len(gt_label) > len(pred_label):\n",
    "            norm_ED = 1 - edit_distance(pred_label, gt_label) / len(gt_label)\n",
    "        else:\n",
    "            norm_ED = 1 - edit_distance(pred_label, gt_label) / len(pred_label)\n",
    "\n",
    "        norm_EDs.append(norm_ED)\n",
    "\n",
    "    accuracy = n_correct / len(GTs)\n",
    "\n",
    "    result = {\n",
    "        \"Accuracy\": accuracy,\n",
    "        \"Norm_ED\": np.asarray(norm_EDs).mean(),\n",
    "    }\n",
    "    return result\n",
    "\n",
    "\n",
    "def calculate_scores_check(result):\n",
    "    n_correct = 0\n",
    "    norm_EDs = []\n",
    "    confidence_score_list = []\n",
    "\n",
    "    for gt_pred_dict in result:\n",
    "        pred_label = gt_pred_dict[\"pred\"]\n",
    "        gt_label = gt_pred_dict[\"gt\"]\n",
    "        # pred_label = preds.get(image_name, '')  \n",
    "        if pred_label == gt_label:\n",
    "            n_correct += 1\n",
    "\n",
    "        if len(gt_label) == 0 or len(pred_label) == 0:\n",
    "            norm_ED = 0\n",
    "        elif len(gt_label) > len(pred_label):\n",
    "            norm_ED = 1 - edit_distance(pred_label, gt_label) / len(gt_label)\n",
    "        else:\n",
    "            norm_ED = 1 - edit_distance(pred_label, gt_label) / len(pred_label)\n",
    "\n",
    "        norm_EDs.append(norm_ED)\n",
    "\n",
    "    accuracy = n_correct / len(result)\n",
    "\n",
    "    result = {\n",
    "        \"Accuracy\": accuracy,\n",
    "        \"Norm_ED\": np.asarray(norm_EDs).mean(),\n",
    "    }\n",
    "    return result\n",
    "\n",
    "\n",
    "def load_readers(lang_list:tp.List[str], model_path:str=None):\n",
    "    import easyocr\n",
    "    def get_training_convertor(ref_converter:easyocr.utils.CTCLabelConverter):\n",
    "        if isinstance(ref_converter, CTCLabelConverter):\n",
    "            return ref_converter\n",
    "        character = ''.join(ref_converter.character[1:])\n",
    "        converter = CTCLabelConverter(character)\n",
    "        converter.separator_list = ref_converter.separator_list\n",
    "        converter.ignore_idx = ref_converter.ignore_idx\n",
    "        converter.dict_list = ref_converter.dict_list\n",
    "        converter.dict = ref_converter.dict\n",
    "        return converter\n",
    "    reader = easyocr.Reader(lang_list)\n",
    "    if model_path:\n",
    "        checkpoint = torch.load(model_path)\n",
    "        reader.recognizer.load_state_dict(checkpoint)\n",
    "    \n",
    "    ref_converter = reader.converter\n",
    "    training_converter = get_training_convertor(ref_converter)\n",
    "    return reader.recognizer, training_converter, reader"
   ]
  },
  {
   "cell_type": "code",
   "execution_count": null,
   "id": "10dc8468",
   "metadata": {},
   "outputs": [],
   "source": []
  },
  {
   "cell_type": "code",
   "execution_count": null,
   "id": "a78bb837",
   "metadata": {},
   "outputs": [],
   "source": [
    "\n",
    "\n"
   ]
  },
  {
   "cell_type": "code",
   "execution_count": 16,
   "id": "366c48be",
   "metadata": {},
   "outputs": [],
   "source": [
    "# FT model\n",
    "model_path_2 = \"saved_models/epoch_6701.pth\"\n",
    "# reader2 = load_readers_ori(model_path_2)\n",
    "model, converter, reader2 = load_readers(['ch_tra'], model_path_2)\n",
    "\n",
    "\n"
   ]
  },
  {
   "cell_type": "code",
   "execution_count": 17,
   "id": "d2706492",
   "metadata": {},
   "outputs": [
    {
     "name": "stdout",
     "output_type": "stream",
     "text": [
      "             filename      words   SunnyGts\n",
      "0    1Tainan_1014.jpg         新化         新化\n",
      "1    1Tainan_1015.jpg         阿蓮         阿蓮\n",
      "2    1Tainan_1020.jpg         阿蓮         阿蓮\n",
      "3    1Tainan_1038.jpg         新化         新化\n",
      "4     1Tainan_104.jpg  臺灣智駕測試實驗室  臺灣智駕測試實驗室\n",
      "..                ...        ...        ...\n",
      "148   3Taoyuan_74.jpg       接機大廳       接機大廳\n",
      "149   3Taoyuan_75.jpg  停車場分鐘免費停車  停車場分鐘免費停車\n",
      "150   3Taoyuan_78.jpg       航郵中心       航郵中心\n",
      "151   3Taoyuan_83.jpg       第一航廈       第一航廈\n",
      "152   3Taoyuan_85.jpg       機場旅館       機場旅館\n",
      "\n",
      "[153 rows x 3 columns]\n",
      "{'1Tainan_1014.jpg': '新化', '1Tainan_1015.jpg': '阿蓮', '1Tainan_1020.jpg': '阿蓮', '1Tainan_1038.jpg': '新化', '1Tainan_104.jpg': '臺灣智駕測試實驗室', '1Tainan_1041.jpg': '台鐵沙崙站', '1Tainan_1045.jpg': '高鐵台南站', '1Tainan_1046.jpg': '台鐵沙崙站', '1Tainan_1048.jpg': '新化', '1Tainan_1055.jpg': '高鐵台南站', '1Tainan_1064.jpg': '阿蓮', '1Tainan_112.jpg': '大臺南會展中心', '1Tainan_124.jpg': '高鐵台南站', '1Tainan_136.jpg': '臺灣智駕測試實驗室', '1Tainan_145.jpg': '資安暨智慧科技研發大樓', '1Tainan_147.jpg': '臺灣智駕測試實驗室', '1Tainan_157.jpg': '中央研究院南部院區', '1Tainan_163.jpg': '沙崙綠能科技示範場域', '1Tainan_169.jpg': '中央研究院南部院區', '1Tainan_177.jpg': '資安暨智慧科技研發大樓', '1Tainan_18.jpg': '高鐵台南站', '1Tainan_185.jpg': '高鐵台南站', '1Tainan_192.jpg': '高發二路', '1Tainan_214.jpg': '臨時接送區', '1Tainan_215.jpg': '汽車停車場', '1Tainan_216.jpg': '快速公路', '1Tainan_217.jpg': '歸仁市區', '1Tainan_218.jpg': '新化', '1Tainan_229.jpg': '新化', '1Tainan_236.jpg': '臨時接送區', '1Tainan_250.jpg': '快速公路', '1Tainan_256.jpg': '臨停接送區', '1Tainan_277.jpg': '高鐵台南站', '1Tainan_279.jpg': '高鐵台南站', '1Tainan_285.jpg': '新化', '1Tainan_29.jpg': '資安暨智慧科技研發大樓', '1Tainan_297.jpg': '汽車停車場', '1Tainan_3.jpg': '中央研究院南部院區', '1Tainan_31.jpg': '臺灣智駕測試實驗室', '1Tainan_319.jpg': '汽機車停車場', '1Tainan_324.jpg': '客運轉運站', '1Tainan_328.jpg': '臨時接送區', '1Tainan_332.jpg': '汽機車停車場', '1Tainan_338.jpg': '歸仁市區', '1Tainan_346.jpg': '阿蓮', '1Tainan_354.jpg': '新市', '1Tainan_358.jpg': '新化', '1Tainan_368.jpg': '高鐵台南站', '1Tainan_373.jpg': '高鐵台南站', '1Tainan_377.jpg': '大台南會展中心', '1Tainan_378.jpg': '臺灣智駕測試實驗室', '1Tainan_390.jpg': '大台南會展中心', '1Tainan_391.jpg': '中央研究院南部院區', '1Tainan_401.jpg': '沙崙綠能科技示範場域', '1Tainan_404.jpg': '資安暨智慧科技研發大樓', '1Tainan_412.jpg': '歸仁十一路', '1Tainan_417.jpg': '台灣智駕測試實驗室', '1Tainan_426.jpg': '高鐵台南站', '1Tainan_440.jpg': '慢車道專用', '1Tainan_476.jpg': '歸仁市區', '1Tainan_479.jpg': '歸仁市區', '1Tainan_501.jpg': '大潭', '1Tainan_504.jpg': '快車道專用', '1Tainan_51.jpg': '中央研究院南部院區', '1Tainan_510.jpg': '大潭', '1Tainan_525.jpg': '臨時接送區', '1Tainan_529.jpg': '機踏車停車場', '1Tainan_539.jpg': '汽車停車場', '1Tainan_545.jpg': '新化', '1Tainan_565.jpg': '快速公路', '1Tainan_577.jpg': '歸仁市區', '1Tainan_582.jpg': '快速公路', '1Tainan_589.jpg': '歸仁市區', '1Tainan_61.jpg': '沙崙綠能科技示範場域', '1Tainan_616.jpg': '仁德', '1Tainan_623.jpg': '新化', '1Tainan_636.jpg': '快速公路', '1Tainan_646.jpg': '沙崙站', '1Tainan_647.jpg': '阿蓮', '1Tainan_654.jpg': '汽車停車場', '1Tainan_667.jpg': '快速公路', '1Tainan_672.jpg': '湖內', '1Tainan_673.jpg': '快速公路', '1Tainan_681.jpg': '阿蓮', '1Tainan_682.jpg': '台南監獄', '1Tainan_689.jpg': '大臺南會展中心', '1Tainan_700.jpg': '大潭', '1Tainan_708.jpg': '大臺南會展中心', '1Tainan_710.jpg': '大潭', '1Tainan_721.jpg': '關廟', '1Tainan_727.jpg': '台南市區', '1Tainan_740.jpg': '仁德', '1Tainan_741.jpg': '萬國通路創意觀光工廠', '1Tainan_745.jpg': '新化', '1Tainan_753.jpg': '高鐵台南站', '1Tainan_757.jpg': '阿蓮', '1Tainan_760.jpg': '歸仁市區', '1Tainan_78.jpg': '國立陽明交通大學臺南分部', '1Tainan_781.jpg': '台鐵沙崙站', '1Tainan_782.jpg': '高鐵台南站', '1Tainan_821.jpg': '台鐵沙崙站', '1Tainan_837.jpg': '新化', '1Tainan_848.jpg': '大潭武東', '1Tainan_871.jpg': '大臺南會展中心', '1Tainan_90.jpg': '沙崙綠能科技示範場域', '1Tainan_901.jpg': '湖內', '1Tainan_915.jpg': '南一球場', '1Tainan_916.jpg': '湖內', '1Tainan_929.jpg': '沙崙站', '1Tainan_935.jpg': '長榮大學站', '1Tainan_943.jpg': '大臺南會展中心', '1Tainan_956.jpg': '台南市區', '1Tainan_969.jpg': '關廟', '1Tainan_973.jpg': '仁德', '1Tainan_986.jpg': '歸仁市區', '2Penghu_1.jpg': '中正路', '2Penghu_11.jpg': '民生路', '2Penghu_12.jpg': '天后宮', '2Penghu_15.jpg': '草蓆尾', '2Penghu_24.jpg': '民族路', '2Penghu_27.jpg': '同和路', '2Penghu_3.jpg': '救國團澎湖青年活動中心', '2Penghu_35.jpg': '馬公港', '2Penghu_4.jpg': '觀音亭', '3Taoyuan_1.jpg': '南崁', '3Taoyuan_118.jpg': '航警局', '3Taoyuan_12.jpg': '中心', '3Taoyuan_124.jpg': '機場旅館', '3Taoyuan_13.jpg': '一航廈', '3Taoyuan_132.jpg': '南崁竹圍', '3Taoyuan_134.jpg': '動植物防檢局', '3Taoyuan_137.jpg': '航警局', '3Taoyuan_139.jpg': '第一航廈', '3Taoyuan_151.jpg': '動植物防檢局', '3Taoyuan_153.jpg': '第二航廈', '3Taoyuan_157.jpg': '第二航廈', '3Taoyuan_179.jpg': '航郵中心', '3Taoyuan_183.jpg': '第二航廈出境', '3Taoyuan_21.jpg': '二航號停車場', '3Taoyuan_22.jpg': '二航入境', '3Taoyuan_27.jpg': '機車入出口', '3Taoyuan_29.jpg': '汽車入口', '3Taoyuan_32.jpg': '警航局', '3Taoyuan_55.jpg': '貨運站', '3Taoyuan_61.jpg': '前有路口', '3Taoyuan_62.jpg': '注意號誌', '3Taoyuan_70.jpg': '號停車場', '3Taoyuan_72.jpg': '出境大廳', '3Taoyuan_74.jpg': '接機大廳', '3Taoyuan_75.jpg': '停車場分鐘免費停車', '3Taoyuan_78.jpg': '航郵中心', '3Taoyuan_83.jpg': '第一航廈', '3Taoyuan_85.jpg': '機場旅館'}\n"
     ]
    }
   ],
   "source": [
    "# testing data\n",
    "image_folder = \"all_data/0_v3_test_2_1/0_v3_test_2_1/\"\n",
    "label_file = image_folder+\"labels.csv\"\n",
    "\n",
    "# GT\n",
    "df = pd.read_csv(label_file, encoding='big5')\n",
    "df[\"SunnyGts\"] = df.apply(lambda row: ' '.join(row['words'].split()), axis=1)\n",
    "print(df)\n",
    "GTs = {row[\"filename\"]: row[\"SunnyGts\"] for _, row in df.iterrows()}\n",
    "print(GTs)"
   ]
  },
  {
   "cell_type": "code",
   "execution_count": 18,
   "id": "0584034a",
   "metadata": {},
   "outputs": [
    {
     "name": "stdout",
     "output_type": "stream",
     "text": [
      "{'1Tainan_654.jpg': '汽車停車場', '1Tainan_871.jpg': '', '3Taoyuan_61.jpg': '', '1Tainan_781.jpg': '台鐵沙崙站', '1Tainan_672.jpg': '湖內 ', '1Tainan_328.jpg': '臨時接送區', '3Taoyuan_151.jpg': '院', '1Tainan_145.jpg': '臺', '1Tainan_18.jpg': '', '1Tainan_297.jpg': '', '1Tainan_216.jpg': '', '1Tainan_646.jpg': '沙崙站  站站', '1Tainan_147.jpg': '試', '1Tainan_378.jpg': '資智', '1Tainan_250.jpg': '快速公路', '1Tainan_589.jpg': '歸仁市區', '1Tainan_901.jpg': '', '1Tainan_837.jpg': '', '1Tainan_710.jpg': ' 大 ', '1Tainan_1020.jpg': '心', '1Tainan_689.jpg': '大南竹展中心', '3Taoyuan_157.jpg': ' 第二航廈', '1Tainan_616.jpg': '仁 德', '1Tainan_986.jpg': ' 歸仁市區', '1Tainan_821.jpg': '台鐵沙崙站', '3Taoyuan_74.jpg': '技技大', '3Taoyuan_75.jpg': '', '1Tainan_525.jpg': '臨停接送區', '1Tainan_1046.jpg': '台局', '1Tainan_279.jpg': '', '3Taoyuan_118.jpg': '航 駕 局', '1Tainan_636.jpg': '快速公路', '1Tainan_391.jpg': '中研究院南院', '1Tainan_510.jpg': '', '1Tainan_956.jpg': '', '2Penghu_27.jpg': '同和路', '1Tainan_667.jpg': '快速公路', '1Tainan_192.jpg': '高發二路', '1Tainan_277.jpg': '', '1Tainan_169.jpg': '快研究院南部院', '1Tainan_1038.jpg': '', '3Taoyuan_179.jpg': '航郵中心', '1Tainan_501.jpg': '大潭 心 ', '1Tainan_582.jpg': ' 快速公路', '1Tainan_346.jpg': '', '1Tainan_673.jpg': '站  快速公路', '1Tainan_163.jpg': '科', '1Tainan_479.jpg': '機 歸 仁市區', '1Tainan_848.jpg': '', '3Taoyuan_62.jpg': '', '1Tainan_404.jpg': '駕 臺  區 資安暨智慧科技研發大樓', '1Tainan_504.jpg': '', '1Tainan_741.jpg': '轉國通路 創意觀究化', '3Taoyuan_21.jpg': '蓮 航號) 化', '3Taoyuan_27.jpg': '路入', '3Taoyuan_153.jpg': '第二航廈', '1Tainan_61.jpg': '局新', '1Tainan_51.jpg': '郵', '1Tainan_401.jpg': '沙綠能科技示範場域 ', '1Tainan_229.jpg': '化', '1Tainan_681.jpg': '', '3Taoyuan_78.jpg': '航郵中心', '1Tainan_377.jpg': '大臺南會展中心', '1Tainan_623.jpg': '', '1Tainan_1048.jpg': '', '1Tainan_973.jpg': '仁德 3', '1Tainan_104.jpg': '臺灣智駕測試實驗室 口', '3Taoyuan_70.jpg': '', '3Taoyuan_139.jpg': '第 航廈', '1Tainan_935.jpg': '長榮大學站  臨', '1Tainan_90.jpg': '沙能科技示 ', '1Tainan_1045.jpg': '站', '1Tainan_332.jpg': '汽機車停車場', '1Tainan_753.jpg': '駕台', '1Tainan_236.jpg': '', '1Tainan_1064.jpg': '阿蓮 ', '3Taoyuan_124.jpg': '', '2Penghu_4.jpg': '觀  亭', '1Tainan_124.jpg': '', '1Tainan_1055.jpg': '高鐵台南站', '1Tainan_647.jpg': ' 阿蓮 ', '1Tainan_31.jpg': '智測', '1Tainan_426.jpg': '高台南', '1Tainan_440.jpg': '', '1Tainan_215.jpg': '', '2Penghu_24.jpg': '', '1Tainan_529.jpg': '機踏車停車場', '2Penghu_12.jpg': '', '1Tainan_217.jpg': '', '1Tainan_319.jpg': '', '1Tainan_368.jpg': '', '1Tainan_157.jpg': '淵測', '3Taoyuan_85.jpg': '旅 館', '3Taoyuan_83.jpg': '第 航廈', '1Tainan_745.jpg': '新化', '1Tainan_214.jpg': '', '1Tainan_708.jpg': '大臺南會展中心 新', '1Tainan_577.jpg': '歸仁市區', '1Tainan_782.jpg': '', '1Tainan_1041.jpg': '', '1Tainan_185.jpg': '高鐵台南站 ', '1Tainan_740.jpg': '臺 仁 德  ', '1Tainan_358.jpg': '關 新化', '1Tainan_285.jpg': '化', '2Penghu_11.jpg': '', '3Taoyuan_22.jpg': ' 航入境', '1Tainan_943.jpg': '大臺南會展中心', '1Tainan_29.jpg': '測出', '3Taoyuan_29.jpg': '', '1Tainan_354.jpg': '新市', '1Tainan_929.jpg': '崙站 ', '1Tainan_969.jpg': '', '1Tainan_721.jpg': '', '3Taoyuan_13.jpg': '', '2Penghu_35.jpg': '馬公港', '1Tainan_417.jpg': '', '1Tainan_390.jpg': '大臺南會展中心', '3Taoyuan_134.jpg': '勵植物防榔局', '1Tainan_256.jpg': '臨停接送區', '1Tainan_916.jpg': ' ', '1Tainan_757.jpg': '', '3Taoyuan_55.jpg': '貨運 站', '3Taoyuan_32.jpg': '航警局', '1Tainan_112.jpg': '', '2Penghu_1.jpg': '中化路', '1Tainan_177.jpg': ' 快暨慧糊發', '3Taoyuan_72.jpg': '出域大', '1Tainan_476.jpg': '歸仁市區', '1Tainan_412.jpg': '', '3Taoyuan_183.jpg': '第航廈場', '2Penghu_3.jpg': '國湖測', '1Tainan_3.jpg': '', '1Tainan_760.jpg': '歸仁市區', '3Taoyuan_1.jpg': '區 南崁', '3Taoyuan_137.jpg': '', '1Tainan_1015.jpg': '', '1Tainan_338.jpg': '', '1Tainan_545.jpg': '新化', '1Tainan_565.jpg': '快速公路', '1Tainan_78.jpg': '猷蓮部', '1Tainan_915.jpg': '', '1Tainan_700.jpg': ' 大', '3Taoyuan_132.jpg': '南實 仁', '1Tainan_682.jpg': '', '1Tainan_727.jpg': '台南市區', '1Tainan_373.jpg': '', '3Taoyuan_12.jpg': '', '1Tainan_539.jpg': '汽車停車場', '2Penghu_15.jpg': '', '1Tainan_136.jpg': '', '1Tainan_1014.jpg': '新化', '1Tainan_324.jpg': '時車站', '1Tainan_218.jpg': '化'}\n"
     ]
    }
   ],
   "source": [
    "# pred\n",
    "preds2 = get_preds(reader2, image_folder)\n",
    "print(preds2)\n",
    "# preds3 = get_preds(reader3, image_folder)"
   ]
  },
  {
   "cell_type": "code",
   "execution_count": 19,
   "id": "ea50e10e",
   "metadata": {},
   "outputs": [
    {
     "data": {
      "text/plain": [
       "{'Accuracy': 0.1895424836601307, 'Norm_ED': 0.3930445915740033}"
      ]
     },
     "execution_count": 19,
     "metadata": {},
     "output_type": "execute_result"
    }
   ],
   "source": [
    "# score\n",
    "scores2 = calculate_scores(GTs, preds2)\n",
    "scores2"
   ]
  },
  {
   "cell_type": "markdown",
   "id": "8b9b38dd",
   "metadata": {},
   "source": [
    "# original metric from model"
   ]
  },
  {
   "cell_type": "code",
   "execution_count": null,
   "id": "f3b77249",
   "metadata": {},
   "outputs": [],
   "source": []
  },
  {
   "cell_type": "code",
   "execution_count": 20,
   "id": "d24a95c4",
   "metadata": {},
   "outputs": [
    {
     "name": "stderr",
     "output_type": "stream",
     "text": [
      "validation phase:   0%|          | 0/5 [00:00<?, ?it/s]"
     ]
    },
    {
     "name": "stderr",
     "output_type": "stream",
     "text": [
      "validation phase: 100%|██████████| 5/5 [00:02<00:00,  1.88it/s]"
     ]
    },
    {
     "name": "stdout",
     "output_type": "stream",
     "text": [
      "{'CTCLoss': 2.4672894, 'Accuracy': 0.3006535947712418, 'Norm_ED': 0.5830041781022174}\n"
     ]
    },
    {
     "name": "stderr",
     "output_type": "stream",
     "text": [
      "\n"
     ]
    }
   ],
   "source": [
    "# model_path_2 = r'C:\\Users\\MAGIC\\Ching\\survey\\plan\\OCR\\5\\EasyOCR-master\\finetune\\saved_models\\Freeze_FeatureExtraction\\20231125_165812\\epoch_6701.pth'\n",
    "testing_set_roots = [image_folder]\n",
    "character = ''.join(converter.character[1:])\n",
    "\n",
    "DEVICE= torch.device('cuda' if torch.cuda.is_available() else 'cpu')\n",
    "criterion = torch.nn.CTCLoss(zero_infinity=True).to(DEVICE)\n",
    "\n",
    "test_loader = DS.load_dataset(*testing_set_roots, character=character)\n",
    "\n",
    "# FT model\n",
    "# model, converter = load_readers([\"ch_tra\"], model_path_2)\n",
    "test_result2 = validation(model, criterion, converter, test_loader)\n",
    "print(test_result2)"
   ]
  },
  {
   "cell_type": "code",
   "execution_count": 21,
   "metadata": {},
   "outputs": [
    {
     "name": "stderr",
     "output_type": "stream",
     "text": [
      "validation phase: 100%|██████████| 5/5 [00:02<00:00,  1.86it/s]"
     ]
    },
    {
     "name": "stdout",
     "output_type": "stream",
     "text": [
      "{'CTCLoss': 2.471333, 'Accuracy': 0.3006535947712418, 'Norm_ED': 0.5830041781022174}\n"
     ]
    },
    {
     "name": "stderr",
     "output_type": "stream",
     "text": [
      "\n"
     ]
    }
   ],
   "source": [
    "test_result3 = validation(model, criterion, reader2.converter, test_loader)\n",
    "print(test_result3)"
   ]
  },
  {
   "cell_type": "code",
   "execution_count": 23,
   "metadata": {},
   "outputs": [
    {
     "name": "stderr",
     "output_type": "stream",
     "text": [
      "prediction phase: 100%|██████████| 5/5 [00:02<00:00,  1.74it/s]"
     ]
    },
    {
     "name": "stdout",
     "output_type": "stream",
     "text": [
      "[{'gt': '湖內', 'pred': '場內'}, {'gt': '仁德', 'pred': ''}, {'gt': '沙崙綠能科技示範場域', 'pred': '沙崙綠能科技示範場域'}, {'gt': '航警局', 'pred': '高'}, {'gt': '高鐵台南站', 'pred': '停會發鐵站'}, {'gt': '新化', 'pred': '新化'}, {'gt': '警航局', 'pred': '航警局'}, {'gt': '新化', 'pred': ''}, {'gt': '台鐵沙崙站', 'pred': '資台快大崙站'}, {'gt': '萬國通路創意觀光工廠', 'pred': '局暨鐵境中高'}, {'gt': '高鐵台南站', 'pred': '高新'}, {'gt': '慢車道專用', 'pred': ''}, {'gt': '大潭', 'pred': '大潭'}, {'gt': '貨運站', 'pred': '貨運站'}, {'gt': '湖內', 'pred': '湖'}, {'gt': '客運轉運站', 'pred': '車蓮站'}, {'gt': '湖內', 'pred': '湖內'}, {'gt': '汽機車停車場', 'pred': '仁院車'}, {'gt': '第二航廈', 'pred': '第航廈'}, {'gt': '新化', 'pred': '崙化心'}, {'gt': '中央研究院南部院區', 'pred': '中央研究院南部院區'}, {'gt': '台南市區', 'pred': '台南市區'}, {'gt': '中央研究院南部院區', 'pred': '中央研究院南部院區'}, {'gt': '汽車停車場', 'pred': '汽車停車場'}, {'gt': '臨時接送區', 'pred': '臨時接送區'}, {'gt': '航郵中心', 'pred': '航郵中心'}, {'gt': '高發二路', 'pred': '高發路'}, {'gt': '新化', 'pred': '新新'}, {'gt': '台灣智駕測試實驗室', 'pred': '臺灣智駕測試實驗心驗'}, {'gt': '高鐵台南站', 'pred': '區鐵驗南站'}, {'gt': '大臺南會展中心', 'pred': '市鐵南中'}, {'gt': '資安暨智慧科技研發大樓', 'pred': '能安置智臺技研發大樓'}, {'gt': '南一球場', 'pred': '南球場'}, {'gt': '動植物防檢局', 'pred': '廟植物廟檢局'}, {'gt': '接機大廳', 'pred': '接機大灣站'}, {'gt': '沙崙綠能科技示範場域', 'pred': '沙崙綠能科技示範場域'}, {'gt': '二航入境', 'pred': '二航大境'}, {'gt': '阿蓮', 'pred': '阿蓮'}, {'gt': '新化', 'pred': '新化'}, {'gt': '快速公路', 'pred': '快速公路'}, {'gt': '新化', 'pred': '新化'}, {'gt': '停車場分鐘免費停車', 'pred': '市'}, {'gt': '沙崙綠能科技示範場域', 'pred': '沙崙綠能科技示會'}, {'gt': '歸仁市區', 'pred': '歸仁市區'}, {'gt': '仁德', 'pred': '仁德'}, {'gt': '臨時接送區', 'pred': '鐵停接送'}, {'gt': '汽機車停車場', 'pred': '汽機車停車場'}, {'gt': '歸仁市區', 'pred': '歸仁市區'}, {'gt': '大臺南會展中心', 'pred': '大臺南會展中心'}, {'gt': '資安暨智慧科技研發大樓', 'pred': '資安暨智慧科技研發大樓'}, {'gt': '高鐵台南站', 'pred': '高驗台市'}, {'gt': '第一航廈', 'pred': '第航廈'}, {'gt': '阿蓮', 'pred': '阿蓮'}, {'gt': '出境大廳', 'pred': '車大快智'}, {'gt': '新化', 'pred': '新化化'}, {'gt': '臺灣智駕測試實驗室', 'pred': '路南智駕灣實實場室'}, {'gt': '大台南會展中心', 'pred': '大臺南會展中心'}, {'gt': '長榮大學站', 'pred': '榮大學站'}, {'gt': '阿蓮', 'pred': '航展'}, {'gt': '第一航廈', 'pred': '第一航廈'}, {'gt': '中正路', 'pred': '中路'}, {'gt': '台鐵沙崙站', 'pred': '台鐵沙崙站'}, {'gt': '新市', 'pred': '市'}, {'gt': '天后宮', 'pred': ''}, {'gt': '大潭', 'pred': '大停'}, {'gt': '草蓆尾', 'pred': ''}, {'gt': '觀音亭', 'pred': '廟葶'}, {'gt': '汽車停車場', 'pred': '南'}, {'gt': '機踏車停車場', 'pred': '機踏車停車場'}, {'gt': '新化', 'pred': '新化'}, {'gt': '二航號停車場', 'pred': '二航號'}, {'gt': '大台南會展中心', 'pred': '大臺南會展中心'}, {'gt': '台鐵沙崙站', 'pred': '鐵沙崙站'}, {'gt': '歸仁十一路', 'pred': '站'}, {'gt': '汽車入口', 'pred': '區大'}, {'gt': '國立陽明交通大學臺南分部', 'pred': '國立陽明交通大學臺南分部'}, {'gt': '快速公路', 'pred': '快速公路'}, {'gt': '快速公路', 'pred': '快速公路'}, {'gt': '沙崙站', 'pred': '沙崙站'}, {'gt': '民生路', 'pred': '草蓮'}, {'gt': '歸仁市區', 'pred': '區崙仁區'}, {'gt': '航警局', 'pred': '航區局'}, {'gt': '前有路口', 'pred': ''}, {'gt': '高鐵台南站', 'pred': '高鐵台南'}, {'gt': '資安暨智慧科技研發大樓', 'pred': '蓮資安臺室綠南中路大室'}, {'gt': '快車道專用', 'pred': '車'}, {'gt': '台南監獄', 'pred': '大南'}, {'gt': '機場旅館', 'pred': '機場旅館'}, {'gt': '歸仁市區', 'pred': '化歸仁市市'}, {'gt': '第二航廈', 'pred': '第二航廈'}, {'gt': '快速公路', 'pred': '快速公路'}, {'gt': '大潭', 'pred': '大'}, {'gt': '快速公路', 'pred': '快速公路'}, {'gt': '新化', 'pred': '新化'}, {'gt': '臺灣智駕測試實驗室', 'pred': '台臺智臺試臺資快南'}, {'gt': '動植物防檢局', 'pred': '市場院臺局'}, {'gt': '沙崙站', 'pred': '沙崙站'}, {'gt': '臺灣智駕測試實驗室', 'pred': '臺灣智駕測試實驗室'}, {'gt': '機場旅館', 'pred': '場旅歸'}, {'gt': '中央研究院南部院區', 'pred': '中央研究航南部院區'}, {'gt': '阿蓮', 'pred': '阿蓮'}, {'gt': '新化', 'pred': ''}, {'gt': '大臺南會展中心', 'pred': '南廟展中心'}, {'gt': '歸仁市區', 'pred': '車'}, {'gt': '台南市區', 'pred': '台路高蓮蓮'}, {'gt': '臨時接送區', 'pred': '臨停接送區'}, {'gt': '關廟', 'pred': '關廈'}, {'gt': '沙崙綠能科技示範場域', 'pred': '沙崙場南科技示南場域'}, {'gt': '馬公港', 'pred': '馬公局'}, {'gt': '大臺南會展中心', 'pred': '臺南會展中心'}, {'gt': '機車入出口', 'pred': '新綠入'}, {'gt': '阿蓮', 'pred': '阿蓮'}, {'gt': '快速公路', 'pred': '快速公路'}, {'gt': '臺灣智駕測試實驗室', 'pred': '臺智駕測試實歸室'}, {'gt': '高鐵台南站', 'pred': '高鐵台南高'}, {'gt': '號停車場', 'pred': ''}, {'gt': '中央研究院南部院區', 'pred': '中院科科科南蓮車'}, {'gt': '阿蓮', 'pred': '南南'}, {'gt': '大潭', 'pred': '大'}, {'gt': '臨時接送區', 'pred': '台'}, {'gt': '南崁', 'pred': '南崁'}, {'gt': '臨停接送區', 'pred': '臨停接送區'}, {'gt': '台鐵沙崙站', 'pred': '高沙市站'}, {'gt': '關廟', 'pred': '心中'}, {'gt': '快速公路', 'pred': '快快速公路'}, {'gt': '仁德', 'pred': '德'}, {'gt': '同和路', 'pred': '和路'}, {'gt': '歸仁市區', 'pred': '歸仁市區南'}, {'gt': '救國團澎湖青年活動中心', 'pred': '救國國澎湖南車站動心心'}, {'gt': '中央研究院南部院區', 'pred': '沙崙局科技示範場場'}, {'gt': '第二航廈出境', 'pred': '第灣航境'}, {'gt': '民族路', 'pred': '車車'}, {'gt': '大臺南會展中心', 'pred': '大中科'}, {'gt': '汽車停車場', 'pred': '高研速快場'}, {'gt': '高鐵台南站', 'pred': '慧台南站'}, {'gt': '高鐵台南站', 'pred': '高台南高'}, {'gt': '高鐵台南站', 'pred': '高域台南站'}, {'gt': '歸仁市區', 'pred': '鐵市區'}, {'gt': '資安暨智慧科技研發大樓', 'pred': '公暨安暨智慧科技研發大'}, {'gt': '高鐵台南站', 'pred': '高鐵台台市站'}, {'gt': '航郵中心', 'pred': '航郵中心'}, {'gt': '高鐵台南站', 'pred': '台路站'}, {'gt': '臺灣智駕測試實驗室', 'pred': '慧灣智駕測臺範驗室'}, {'gt': '阿蓮', 'pred': '阿蓮'}, {'gt': '注意號誌', 'pred': ''}, {'gt': '大潭武東', 'pred': '臺'}, {'gt': '一航廈', 'pred': '航廈'}, {'gt': '汽車停車場', 'pred': '汽車停車場'}, {'gt': '中心', 'pred': '中心心'}, {'gt': '歸仁市區', 'pred': '南車'}, {'gt': '南崁竹圍', 'pred': '南崁駕'}, {'gt': '高鐵台南站', 'pred': '化台鐵'}, {'gt': '新化', 'pred': '新化'}]\n",
      "{'Accuracy': 0.30718954248366015, 'Norm_ED': 0.5840935027209537}\n"
     ]
    },
    {
     "name": "stderr",
     "output_type": "stream",
     "text": [
      "\n"
     ]
    }
   ],
   "source": [
    "recognize_result = recognize(model, reader2.converter, test_loader)\n",
    "print(recognize_result)\n",
    "print(calculate_scores_check(recognize_result))"
   ]
  },
  {
   "cell_type": "code",
   "execution_count": 9,
   "id": "982fdad3",
   "metadata": {},
   "outputs": [
    {
     "name": "stderr",
     "output_type": "stream",
     "text": [
      "validation phase: 100%|██████████| 5/5 [00:03<00:00,  1.53it/s]\n"
     ]
    },
    {
     "data": {
      "text/plain": [
       "{'CTCLoss': 9.622093,\n",
       " 'Accuracy': 0.026143790849673203,\n",
       " 'Norm_ED': 0.18773820587546078}"
      ]
     },
     "execution_count": 9,
     "metadata": {},
     "output_type": "execute_result"
    }
   ],
   "source": [
    "\n",
    "# original model\n",
    "model0, converter0, reader0 = load_readers([\"ch_tra\"])\n",
    "test_result0 = validation(model0, criterion, converter0, test_loader)\n",
    "test_result0"
   ]
  },
  {
   "cell_type": "code",
   "execution_count": null,
   "id": "e703b4ec",
   "metadata": {},
   "outputs": [],
   "source": []
  },
  {
   "cell_type": "code",
   "execution_count": null,
   "id": "19ae947a",
   "metadata": {},
   "outputs": [],
   "source": []
  },
  {
   "cell_type": "code",
   "execution_count": null,
   "id": "e475ce6d",
   "metadata": {},
   "outputs": [],
   "source": []
  }
 ],
 "metadata": {
  "kernelspec": {
   "display_name": "Python 3 (ipykernel)",
   "language": "python",
   "name": "python3"
  },
  "language_info": {
   "codemirror_mode": {
    "name": "ipython",
    "version": 3
   },
   "file_extension": ".py",
   "mimetype": "text/x-python",
   "name": "python",
   "nbconvert_exporter": "python",
   "pygments_lexer": "ipython3",
   "version": "3.8.10"
  },
  "toc": {
   "base_numbering": 1,
   "nav_menu": {},
   "number_sections": true,
   "sideBar": true,
   "skip_h1_title": false,
   "title_cell": "Table of Contents",
   "title_sidebar": "Contents",
   "toc_cell": false,
   "toc_position": {},
   "toc_section_display": true,
   "toc_window_display": false
  }
 },
 "nbformat": 4,
 "nbformat_minor": 5
}
