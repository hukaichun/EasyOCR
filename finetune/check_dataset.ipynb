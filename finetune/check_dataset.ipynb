{
 "cells": [
  {
   "cell_type": "code",
   "execution_count": 5,
   "metadata": {},
   "outputs": [],
   "source": []
  },
  {
   "cell_type": "code",
   "execution_count": 6,
   "metadata": {},
   "outputs": [],
   "source": [
    "import typing as tp\n",
    "import sys\n",
    "sys.path.insert(0, \"..\")\n",
    "\n",
    "\n",
    "\n",
    "import torch\n",
    "from torch.utils.data import Dataset, ConcatDataset, Subset\n",
    "\n",
    "import easyocr\n",
    "from dataset import OCRDatasetModified, AlignCollate\n",
    "from utils import CTCLabelConverter"
   ]
  },
  {
   "cell_type": "code",
   "execution_count": 7,
   "metadata": {},
   "outputs": [
    {
     "name": "stdout",
     "output_type": "stream",
     "text": [
      "0123456789!\"#$%&'()*+,-./:;<=>?@[\\]^_`{|}~ abcdefghijklmnopqrstuvwxyzABCDEFGHIJKLMNOPQRSTUVWXYZ一丁七丈三上下不丑且丕世丘丙丞丟並丫中丰串丸丹主乃久么之乍乎乏乒乓乖乘乙九乞也乳乾亂了予事二于云互五井些亞亟亡亢交亥亦亨享京亭亮亳亶人什仁仃仄仆仇今介仍仔仕他仗付仙仞仡代令以仰仲件价任份仿企伉伊伍伎伏伐休伕伙伯估伴伶伸伺似伽佃但佈位低住佐佑佔何佗佘余佚佛作佝佞佟你佣佤佩佬佯佰佳併佻佼使侃侄來侈例侍侏侑侖侗供依侮侯侵侶侷便係促俄俊俏俐俑俗俘俚保俞俟俠信俬修俯俱俳俵俸俺俾倀倆倉個倍們倒倔倖倘候倚倜借倡倣倦倨倩倪倫倬倭值偃假偈偉偌偏偕做停健側偵偶偷偽傀傅傌傍傑傘備傚傢傣催傭傲傳債傷傻傾僂僅僉像僑僕僖僚僥僧僭僮僰僱僳僵價僻儀儂億儆儉儋儐儒儘償儡優儲儸儻儼儿兀允元兄充兆兇先光克兌免兒兔兕兗兜入內全兩八公六兮共兵其具典兼冀冉冊再冑冒冕冗冠冢冤冥冬冰冶冷冼准凋凌凍凜凝几凡凰凱凳凶凸凹出函刀刁刃分切刈刊刎刑划列初判別刨利刪刮到制刷券刺刻剁剃則削剌前剎剔剖剛剝剡剩剪副割創剷剽剿劃劇劈劉劍劑力功加劣助努劫劭劾勁勃勇勉勒動勖勗勘務勛勝勞募勢勤勦勰勳勵勸勺勻勾勿包匆匈匍匐匕化北匙匝匠匡匣匪匯匱匹匾匿區十千卅升午卉半卑卒卓協南博卜卞占卡卦卯印危即卵卷卸卹卻卿厄厘厚厝原厥厭厲去參又叉及友反叔取受叛叟叡叢口古句另叨叩只叫召叭叮可台叱史右司叻叼吁吃各合吉吊吋同名后吏吐向吒君吝吞吟吠否吧吩含听吳吵吶吸吹吻吼吾呀呂呃呆呈告呎呢呤周味呵呸呻呼命咀咁咄咆和咎咐咒咕咖咚咧咨咩咪咫咬咭咯咱咳咸咽哀品哄哆哇哈哉員哥哦哨哩哪哭哮哲哺哼哿唁唄唆唇唉唐唑唔唧唬售唯唱唸唾啃啄商啊問啕啞啟啡啣啤啥啦啶啼啾喀喂喃善喇喉喊喋喔喘喙喚喜喝喟喧喪喫喬單喱喻嗅嗎嗓嗔嗜嗟嗡嗣嗦嗩嗯嗲嗶嗽嘆嘈嘉嘌嘎嘔嘖嘗嘛嘧嘩嘮嘯嘲嘴嘸嘻嘿噁噎器噩噪噬噴噶噸噹嚇嚎嚏嚐嚥嚨嚮嚴嚼囂囉囊囍囑囚四回因囤困囹固圃圄圈國圍園圓圖團圜土在圩圭圮地圳圻圾址均坊坌坍坎坏坐坑坡坤坦坨坪坭坳坷坻垂垃型垓垚垛垠垢垣垮埂埃埋城埏埒埔埕域埠埤埭執埸培基埼堀堂堅堆堇堉堊堍堠堡堤堪堯堰報場堵塊塌塑塔塗塘塚塞塢塤填塵塾墀境墅墉墊墓墘墜增墟墨墩墮墳墾壁壅壇壑壓壕壘壙壞壟壢壤壩士壬壯壹壺壼壽夏夔夕外夙多夜夠夢夥大天太夫夭央夯失夷夸夾奄奇奈奉奎奏奐契奔奕套奘奚奠奢奧奪奭奮女奴奶奸她好如妃妄妊妍妒妓妖妙妝妞妣妤妥妨妮妲妳妹妻妾姆姊始姐姑姒姓委姚姜姝姣姥姦姨姪姬姮姻姿威娃娑娘娛娜娟娠娣娥娩娶娼婁婆婉婕婚婢婦婧婪婭婷婺婿媒媚媛媧媲媳媽嫁嫂嫉嫌嫖嫚嫡嫣嫦嫩嫻嬉嬋嬌嬗嬛嬤嬪嬬嬰嬴嬸嬿孀孃孌子孔孕孖字存孚孛孜孝孟孢季孤孩孫孱孵學孺孽孿宁它宅宇守安宋完宏宓宕宗官宙定宛宜客宣室宥宦宮宰害宴宵家宸容宿寂寄寅密寇富寐寒寓寞察寡寢寥實寧寨審寫寬寮寰寵寶寸寺封射將專尉尊尋對導小少尕尖尚尤尪尬就尷尸尹尺尻尼尾尿局屁居屆屈屋屍屎屏屑展屜屠屢層履屬屯山岌岐岑岔岡岩岫岬岱岳岷岸峇峋峒峙峨峪峭峰島峻峽崁崆崇崎崑崔崖崗崙崚崛崞崢崤崧崩崮崴崽嵊嵌嵎嵐嵩嵬嵯嶄嶇嶙嶲嶷嶺嶼嶽巍巒巔巖川州巡巢工左巧巨巫差巰己已巳巴巷巽巾市布帆希帑帕帖帘帚帛帝帥師席帳帶帷常帽幄幅幌幕幗幘幟幡幢幣幫干平年并幸幹幻幼幽幾庄庇床庋序底庖店庚府庠度座庫庭庵庶康庸庹庾廁廂廈廉廊廒廓廕廖廚廝廟廠廡廢廣廩廬廳延廷建廿弁弄弈弊弋式弒弓弔引弗弘弛弟弢弦弧弩弱張強弼彆彈彊彌彎彗彘彙形彤彥彧彩彪彬彭彰影彷役彼彿往征待徇很徊律後徐徑徒得徘徙從徠御徨復循徬徭微徵德徹徽心必忌忍忐忑忒忖志忘忙忠忡忤快忭忱念忸忻忽忿怎怒怕怖思怠怡急性怨怩怪怯恁恂恃恆恉恍恐恕恙恢恣恤恥恨恩恪恫恬恭息恰恿悄悅悉悌悍悔悖悚悝悟悠患您悱悲悵悶悸悼悽情惆惇惊惋惑惕惚惜惟惠惡惦惰惱想惶惹惺惻愁愆愈愉愍意愕愚愛感愧愫愷愿慄慈態慌慎慕慘慚慟慢慣慧慨慫慮慰慵慶慷慾憂憊憎憐憑憚憤憧憨憩憫憬憲憶憾懂懃懇懈應懊懋懣懦懲懶懷懸懺懼懾懿戀戇戈戊戌戍戎成我戒戕或戚戛戟戡截戮戰戲戳戴戶戾房所扁扇扈手才扎扑扒打扔托扛扣扦扭扮扯扳扶批扼找承技抃抄抉把抑抒抓投抖抗折抨披抬抱抵抹押抽拂拄拆拇拈拉拋拌拍拎拐拒拓拔拖拗拘拙拚招拜括拭拮拯拱拳拴拷拼拽拾拿持挂指按挑挖挨挪挫振挹挺挽挾捂捅捆捉捍捎捏捐捕捧捨捩捫据捱捲捶捷捺捻掀掃掄授掉掌掎掏掐排掖掘掙掛掟掠採探掣接控推掩措掰掾揀揆揉揍描提插揖揚換握揣揩揪揭揮援揹損搏搐搓搖搗搜搞搡搥搪搬搭搶摒摔摘摧摩摭摯摶摸摹摺摻摽撂撇撈撐撒撓撕撞撤撥撩撫撬播撮撰撲撻撼撾撿擁擂擄擅擇擊擋操擎擒擔擘據擠擢擦擬擭擱擲擴擺擾攀攄攏攔攘攙攜攝攣攤攪攫攬支收攸改攻放政故效敏救敔敕敖敗敘教敝敞敢散敦敬敲整敵敷數斂斃文斌斐斑斗料斛斜斟斡斤斥斧斫斬斯新斷方於施旁旃旄旅旋旌族旒旗既日旦旨早旬旭旱旺旻昀昂昃昆昇昊昌明昏易昔昕昝星映昤春昧昨昭是昱昴昵昶時晃晉晏晒晙晚晝晞晟晤晦晨普景晰晴晶晸智晾暄暇暈暉暌暐暑暖暗暝暠暢暨暫暮暱暴暹曄曆曉曖曙曜曝曠曦曩曬曰曲曳更書曹曼曾替最會月有朋服朔朕朗望朝期木未末本札朱朴朵朽杆杉李杏材村杖杜杞束杠杭杯杰東杲杳杵杷杻杼松板枇枉枋析枕林枚果枝枯架枷枸柁柄柏某柑染柔柘柚柜柝柞柢查柩柬柯柰柱柳柴柵柿栓栖栗栝校栩株栲核根格栽桀桂桃桅框案桉桌桎桐桑桓桴桶桿梁梅梆梏梓梗條梟梢梧梨梭梯械梳梵棄棉棋棍棐棒棕棗棘棚棟棠棣棧棨棪棫森棱棲棵棹棺棻棼椅椋植椎椏椒椰椴椿楊楓楔楙楚楞楠楢楣楨楫業極楷楹概榆榎榔榕榛榜榨榭榮榴榷榻榿槃槊構槍槎槐槓槙槤槭槳槻槽槿樁樂樊樑樓樗標樞樟模樣樵樸樹樺樽橄橇橈橋橘橙機橡橢橫橿檀檄檎檐檔檗檜檢檬檯檳檸檻櫃櫓櫚櫛櫟櫥櫧櫨櫬櫸櫻欄權欒欖欠次欣欲欹欺欽款歃歆歇歉歌歎歐歙歜歟歡止正此步武歧歪歲歷歸歹死殂殃殆殉殊殖殘殫殭殮殯殲段殷殺殼殿毀毅毆毋母每毒毓比毖毗毘毛毫毬毯毽氏氐民氓气氘氙氚氛氟氣氦氧氨氫氬氮氯氰水永氾汀汁求汊汎汐汕汗汙汛汜汝汞江池污汨汪汰汲汴汶決汽汾沁沂沃沅沈沉沌沐沒沓沔沖沙沚沛沫沭沮沱河沸油治沼沽沾沿況泄泅泉泊泌泓法泖泗泚泛泡波泣泥注泫泮泰泳泵洄洋洌洒洗洙洛洞津洩洪洮洱洲洵洶洸洹活洽派流浙浚浦浩浪浮浴海浸涂涅涇消涉涌涕涪涮涯液涵涼涿淀淄淅淆淇淋淌淑淒淖淘淙淚淞淡淤淦淨淪淫淮淯深淳淵混淹淺添淼清渚減渝渠渡渣渤渥渦測渭港渲渴游渺渾湃湄湊湍湖湘湛湜湟湣湧湮湯溉源準溘溜溝溟溢溥溧溪溫溯溲溴溶溺溼溽滁滂滄滅滇滋滌滎滑滓滔滕滘滬滯滲滴滷滸滾滿漁漂漆漏漓演漕漠漢漣漩漪漫漬漱漲漳漶漸漾漿潁潑潔潘潛潞潟潢潤潭潮潯潰潸潼澀澂澄澆澈澍澎澔澗澡澤澧澮澱澳澹激濁濂濃濉濕濘濛濟濠濡濤濫濬濮濰濱濺濾瀆瀉瀋瀏瀑瀕瀘瀚瀛瀝瀟瀦瀧瀨瀾灌灑灘灝灞灣火灰灶灸灼災炅炊炎炒炕炖炙炤炫炬炭炮炯炳炸為烜烤烯烴烷烹烽焉焊焙焚焜無焦焯焰然煃煇煉煌煎煒煙煜煞煤煥照煩煬煮煲煽熄熊熏熒熔熙熟熨熬熱熵熹熾燁燃燄燈燉燊燎燒燕燙營燥燦燧燬燭燮燹燼燾爆爇爍爐爛爪爬爭爰爵父爸爹爺爽爾牂牆片版牌牒牘牙牛牟牠牡牢牧物牲特牽犀犁犍犒犛犢犧犬犯狀狂狄狌狐狗狙狠狡狩狸狹狼狽猁猖猗猛猜猝猞猥猩猴猶猷猾猿獄獅獎獗獠獨獲獵獷獸獻獼獾玄率玉王玕玖玟玠玥玦玩玫玲玳玷玻珀珂珈珊珍珙珞珠珩珪班珮珽現球琅理琇琉琊琍琚琛琢琥琦琨琪琮琯琰琳琴琵琶瑁瑋瑕瑙瑚瑛瑜瑞瑟瑣瑤瑩瑪瑭瑯瑰瑾璀璃璆璇璉璋璐璘璜璞璟璦璧璨璫環璽璿瓊瓏瓚瓜瓢瓣瓦瓮瓶瓷甄甕甘甚甜生產甥甦用甩甫甬甯田由甲申男甸町甾畀畈畋界畏畔留畜畝畢畤略畦番畫異當畸畿疆疇疊疏疑疙疚疝疣疤疥疫疲疳疵疹疼疾病症痊痍痔痕痘痙痛痞痢痣痰痲痳痴痹痺痿瘀瘁瘉瘋瘍瘓瘟瘠瘡瘤瘦瘧瘩瘳瘴療癆癌癒癘癟癡癢癬癮癱癸登發白百皂的皆皇皈皋皎皓皖皚皮皰皺皿盂盃盅盆盈益盎盒盔盛盜盞盟盡監盤盥盧盪目盯盱盲直相盼盾省眈眉看眙真眠眨眩眭眯眶眷眸眺眼眾睇睛睜睞睡睢督睦睪睫睬睹睽睾睿瞄瞇瞋瞎瞑瞞瞢瞧瞪瞬瞭瞰瞳瞻瞿矗矚矛矜矢矣知矩短矮矯石矻矽砂砆砌砍研砝砟砢砦砧砭砲破砵砸硃硅硒硝硤硨硫硬确硯硼硿碇碌碎碑碓碗碘碚碟碣碧碩碭碰碳碴確碻碼碾磁磅磊磋磐磔磚磡磧磨磬磯磲磷磺礁礎礑礙礦礪礫示礽社祀祁祂祇祈祉祊祐祕祖祗祚祛祜祝神祟祠祥祧票祭祺祿禁禍禎福禕禦禧禪禮禱禳禹禺禽禾禿秀私秉秋科秒秕秘租秣秤秦秧秩秫秸移稀稃稅程稍稔稗稙稚稜稞稟稠種稱稷稻稼稽稿穀穆穌積穎穗穢穩穫穴究穹空穿突窄窆窈窒窕窖窗窘窟窠窨窩窪窮窯窺窿竄竅竇竊立竑站竟章竣童竭端競竹竺竽竿笈笏笑笘笙笛笞笠符笨第笭筅筆等筊筋筍筏筐筑筒答策筠筩筮筱筲筵筷箇箋箍箏箔箕算管箬箭箱箴箸節範篆篇築篙篚篠篡篤篦篩篷篾簇簋簑簡簧簪簷簸簽簾簿籀籃籌籍籙籠籤籬籲米籽粉粑粒粕粗粘粟粥粱粲粵粹粽精粿糊糌糕糖糙糜糞糟糠糧糯糰糴糸系糾紀約紅紆紉紊紋納紐紓純紗紘紙級紛紜素紡索紫紮累細紳紹紺絀終絃組結絕絛絜絞絡絢給絨絮統絲絳絹綁綏綑經綜綠綢綦綬維綱網綴綵綸綺綻綽綾綿緊緋緒線緝緞締緣編緩緬緯練緻縉縊縑縛縝縞縣縫縮縯縱縷總績繁繃繆織繕繖繞繡繩繪繫繭繳繹繼纂纇纈續纏纓纖纘纛纜缶缸缺缽罄罌罐罔罕罘罟罩罪置罰署罵罷罹羅羆羈羊羌美羔羚羞群羥羧羨義羯羰羲羸羹羽羿翁翅翊翌翎習翔翟翠翡翥翦翩翮翰翱老考耄者耆耋而耍耐耒耕耖耗耘耙耜耦耳耶耽耿聆聊聒聖聘聚聞聯聰聲聳聶職聽聾聿肄肅肆肇肉肋肌肖肘肚肛肜肝股肢肥肩肪肫肯肱育肺胂胃胄背胎胖胚胛胞胡胤胥胭胯胰胱胸胺能脂脅脆脈脊脖脛脣脩脫脹脾腆腊腋腌腎腐腑腓腔腕腥腦腧腫腰腱腳腴腸腹腺腿膀膂膈膊膏膚膛膜膝膠膨膩膳膺膽膾膿臀臂臃臆臉臊臘臚臞臟臣臥臧臨自臬臭至致臺臻臼臾舀舂舅與興舉舊舌舍舒舔舖舜舞舟航般舵舶舷舸船舺艇艮良艱色艷艾芊芋芍芎芒芙芝芡芥芩芫芬芭芮芯花芳芷芸芹芽芾苑苒苓苔苕苗苛苜苞苟苡苣若苦苧苯英苳苹苻苾茁茂范茄茅茆茉茌茗茛茜茨茫茯茱茲茴茵茶茸茹荀荃荅草荊荏荐荒荔荖荷荸荻荼荽莆莉莊莎莒莓莖莘莞莢莪莫莽菀菁菅菇菊菌菏菑菘菜菠菡菩華菱菲菴菸萁萃萄萇萊萌萍萎萩萬萱萸萼落葆葉著葛葡董葦葫葬葳葵葶葺蒂蒐蒔蒙蒜蒞蒡蒨蒯蒲蒴蒸蒺蒼蒿蓀蓄蓆蓉蓋蓑蓓蓬蓮蓼蔑蔓蔗蔚蔡蔣蔥蔬蔭蔻蔽蕃蕈蕉蕊蕙蕞蕨蕩蕪蕭蕾薄薇薈薊薑薙薛薜薦薨薩薪薯薰薹薺藉藍藏藐藕藜藝藤藥藨藩藪藻蘄蘅蘆蘇蘊蘋蘑蘚蘧蘭蘸蘼蘿虎虐虔處虖虛虜虞號虧虫虱虹蚊蚌蚓蚕蚜蚣蚤蚨蚩蚪蚵蚺蛄蛆蛇蛉蛋蛐蛔蛙蛛蛟蛤蛩蛭蛹蛺蛻蛾蜀蜂蜆蜈蜊蜑蜒蜓蜘蜚蜜蜡蜥蜱蜴蜷蜻蜿蝌蝕蝗蝘蝙蝠蝦蝮蝴蝶蝸螂螃螈融螞螟螢螭螯螳螺螽蟀蟄蟆蟈蟋蟑蟠蟬蟲蟹蟻蟾蠃蠅蠆蠍蠑蠓蠔蠕蠟蠡蠢蠣蠱蠲蠶蠻血行衍術街衙衛衝衡衢衣表衫衰衷衹袁袋袍袒袖袛袞袪被袱裁裂裔裕裘裙補裝裡裨裱裲裳裴裸裹製裾褂複褐褒褚褡褥褪褫褲褶褸褻襄襖襟襠襤襦襪襬襯襲西要覃覆見規覓視覘親覲覺覽觀角觔觚觝解觴觸觿言訂訃訇計訊訌討訐訓訕訖託記訛訝訟訢訣訥訪設許訴訶診註証詐詒詔評詗詛詞詠詢試詩詫詬詭詮詰話該詳詹詼誅誇誌認誓誕誘語誠誡誣誤誥誦誨說誰課誼調諂談請諍諏諒論諛諜諡諤諦諧諫諭諮諱諳諷諸諺諾謀謁謂謄謇謊謎謗謙謚講謝謠謨謫謬謳謹謾譁證譏識譙譚譜警譬譯議譴護譽讀變讓讖讙讚讞谷谿豁豆豈豉豊豌豎豐豔豚象豢豹豺貂貉貊貌貍貓貝貞負財貢貧貨販貪貫責貴貶買貸費貼貽貿賀賁賂賃賄資賈賊賑賓賚賜賞賠賡賢賣賤賦質賬賭賴賸賺購賽贇贈贊贏贓贖贛赤赦赫赭走赴赶起趁超越趕趙趟趣趨足趴趵趾跆跋跌跑跖跗跛距跟跡跣跤跨跪路跳踊踏踐踝踞踢踩踰踴踵踹蹂蹄蹇蹈蹊蹋蹔蹟蹠蹤蹦蹬蹭蹯蹲蹴蹶蹼躁身躬躲躺軀車軋軌軍軒軔軛軟軫軸軾較輅載輒輓輔輕輛輜輝輟輩輪輯輸輻輾輿轂轄轅轉轍轎轟辛辜辟辣辦辨辭辯辰辱農迂迄迅迎近返迢迤迥迦迨迪迫迭述迴迷迺追退送适逃逄逅逆逋逍透逐逑途逕逗這通逛逝逞速造逢連逮逯週進逵逶逸逼逾遁遂遇遊運遍過遏遐遑遒道達違遘遙遜遞遠遣遨適遭遮遲遴遵遶遷選遺遼遽避邀邁邂還邇邈邊邏邑邕邛邠邢那邦邪邯邰邱邳邴邵邸邽邾郁郃郅郇郊郎郛郜郝郡郢部郭郯郴郵都郾鄂鄉鄒鄔鄙鄞鄧鄭鄯鄰鄱鄴鄺酆酉酊酋酌配酐酒酗酚酣酥酩酪酬酮酯酴酵酷酸醅醇醉醋醍醐醒醚醛醜醞醣醫醬醮醯醴釀釁采釉釋里重野量釐金釗釘釜針釣釦釧釵釷鈉鈍鈔鈕鈞鈣鈴鈷鈸鈺鈾鉀鉅鉉鉑鉗鉚鉛鉞鉤鉬鉸鉻銀銃銅銓銖銘銜銥銨銫銳銷銼鋁鋅鋆鋒鋤鋪鋰鋸鋼錄錐錒錕錘錚錠錡錢錦錨錫錮錯錳錶鍊鍋鍍鍛鍥鍬鍰鍱鍵鍶鍼鍾鎂鎊鎌鎖鎗鎚鎡鎧鎩鎬鎮鎳鏈鏖鏗鏘鏞鏟鏡鏢鏤鏽鐘鐙鐮鐵鐸鑄鑊鑑鑒鑣鑫鑰鑱鑲鑷鑼鑽鑾鑿長門閂閃閉開閏閑閒間閔閘閡閣閤閥閨閩閫閭閱閹閻閼閾闆闇闈闊闌闓闔闕闖關闞闡闢阜阡阪阮阱防阻阽阿陀陂附陋陌降限陛陝陞陟陡院陣除陪陰陲陳陵陶陷陸陽隄隅隆隈隊隋隍階隔隕隗隘隙際障隧隨險隱隴隸隹隻隼雀雁雄雅集雇雉雋雌雍雎雒雕雖雘雙雛雜雞離難雨雪雯雰雲零雷雹電需霄霆震霉霍霎霏霑霓霖霙霜霞霧霨霰露霸霹霽霾靂靄靈青靖靚靛靜非靠靡面靨革靳靴靶靼鞅鞋鞍鞏鞘鞠鞣鞭韁韃韋韌韓韜韞韭音韶韻響頁頂頃項順須頊頌頏預頑頒頓頗領頜頡頤頦頭頰頷頸頹頻顆題額顎顏顒顓願顙顛類顥顧顫顯顱風颯颱颶飄飆飛食飢飩飪飭飯飲飴飼飽飾餅餉養餌餐餒餓餘餚餛餞餡館餬餵餽餾饅饈饋饌饑饒饕饗首馗香馥馨馬馭馮馳馴駁駐駒駕駙駛駝駭駱駿騁騎騏騑騙騧騫騰騷騾驁驃驄驅驊驍驕驗驚驛驟驢驤驩驪骨骰骷骸骼髀髏髒髓體髖高髦髮髯髻鬃鬆鬍鬘鬚鬟鬣鬥鬧鬩鬯鬱鬲鬻鬼魁魂魄魅魋魏魔魚魨魯魴魷鮆鮑鮚鮠鮨鮪鮫鮭鮮鮸鯁鯉鯊鯔鯖鯛鯡鯧鯨鯰鯽鰈鰍鰓鰨鰭鰲鰻鱄鱈鱔鱗鱘鱠鱧鱨鱷鱸鱺鳥鳩鳳鳴鳶鴉鴒鴛鴞鴦鴨鴻鴿鵝鵠鵡鵪鵬鵰鵲鶉鶩鶯鶴鶿鷗鷳鷸鷹鷺鸕鸚鸛鸞鹵鹹鹼鹽鹿麂麇麋麒麓麗麝麟麥麩麴麵麻麼麾黃黎黏黑黔默黛黜點黠黧黨黯黴黷黼鼎鼐鼓鼠鼬鼻齊齋齒齡齣齦齧龍龐龔龕龜龢\n"
     ]
    }
   ],
   "source": [
    "reader = easyocr.Reader([\"ch_tra\"])\n",
    "model = reader.recognizer\n",
    "converter:CTCLabelConverter = reader. converter\n",
    "character = ''.join(converter.character[1:])\n",
    "print(character)"
   ]
  },
  {
   "cell_type": "code",
   "execution_count": 8,
   "metadata": {},
   "outputs": [
    {
     "name": "stderr",
     "output_type": "stream",
     "text": [
      "Ignore data whose label is longer than 32: \n",
      "    filename                                words\n",
      "64    44.jpg  (895261) Greenery {Wemyss-Islamist}\n",
      "253  292.jpg    Newtownshanrum #Nutritional Cnnum\n",
      "291  337.jpg   Unauthorized @ Exell ] balsamina #\n",
      "331  381.jpg   Litvinov COLLEAGUE % Samuthirakani\n",
      "402  454.jpg  Tuktamysheva (resin) Technologies !\n",
      "427  490.jpg  Fourteenth . Naiads injurious_Issue\n",
      "452  516.jpg   Thrissur-fabricated Purton Palmyra\n",
      "498  571.jpg  Equalization LIGURIA carbohydrate [\n",
      "573  618.jpg    \"photojournalist\" Growing Waggons\n",
      "584  628.jpg    derailed-Vnanje 419260 BAKALINSKY\n",
      "781  833.jpg  Buys-Horwood misinterpreting Twitch\n"
     ]
    }
   ],
   "source": [
    "training_set_roots = [\"./all_data/en_train\"]\n",
    "ocrs:tp.List[Dataset] = [OCRDatasetModified(root=root, character=character, label_max_length=32) for root in training_set_roots]\n",
    "ocr = ConcatDataset(ocrs)\n",
    "aligncollate = AlignCollate(imgH=64, imgW=600, keep_ratio_with_pad=False, contrast_adjust=False)\n",
    "ocr_loader = torch.utils.data.DataLoader(ocr, batch_size=32, collate_fn = aligncollate)"
   ]
  },
  {
   "cell_type": "code",
   "execution_count": 9,
   "metadata": {},
   "outputs": [
    {
     "name": "stdout",
     "output_type": "stream",
     "text": [
      "('Tel', 'Lindsey_Coge Vaqueros nuns', 'Jinglei @ Extensive', '~Bombed Discourse', 'whishes Jews Lunenburg $', 'Enough Wiener', '129 Reykjavik Chip &', 'Highland \" Weaver Overpowered', 'KOHGILUYEH leasing', 'Heavenly Truman immorality', 'Corvallis Jakwob', 'Onkilon RMS |', 'Viday : Barony 2387564', '{ORLG} DOOM Selective', 'Item', 'CONSTELLATION', 'Swamy Carys Personified', 'BALTIC :', \"Reunite Chill '\", 'KETTERING', '3516 Feral', 'Dayari', 'displace `', 'nonconvex? Nielsen', 'Except } Csx?', 'Aic VIPAKAYA', 'Brigham', 'consequently', 'Andrea Gazoo', '631 Kamhlaba', '547190 soddyite Partick', 'Comte ages')\n",
      "('Zhejiang < 48625', 'NEAR Fred ', 'Fukushima', 'Comparative', 'Mortality Qualifications', 'Photographing Extracts', 'Specimens Militia % Jiang', 'Gojo-Barocci? . Walt', 'Umpires', 'Carlotta', 'Innocent Westlake Aeschinus', 'nikah Jutland_blissfully', 'Baylor ?', 'Hana (', 'Pygmalion', 'customizable ] 908172', 'Pharamond', 'Thinker Reinforce', 'random', 'Symbolic demonization :', 'Limitations Mecca', 'Highs {Orecta}', '31458 ~', 'Dolby', 'Squad #faint Bangor', 'VALGA # Kitson {', '86,154926 ', 'LSSP Rules', 'NIRAJULUI } Yvonne ] Odisha', 'USNS MERIJN _', 'Disband Kygo -', 'flexible /')\n",
      "('Aitken', 'Holiness Fallow', '[Psychiatric] % undisciplined', 'Modification', 'KCMG \"Images-Herri;\"', 'babysitting Ling', 'Passed # Speciation 73502', '76 ! Coadjutor', 'HAWKESLEY', '4375802 - 96180 Peril', 'ETHEREAL Pentridge Harps', 'Name Commissioners', 'Venice BABN_modifications', '(MOSQUE)', 'Stv', '\"Ethafoam\" 30,142860', '{Ratha;} Waterford Deberawewa', 'did? Vocalist &', '07865 Sellin', '7968*2961357 | Punk', 'Coquitlam', 'Safeguards Haitian Decorating', 'cooled', 'Nei . Loss 1832-4 ^', \"'Shine'\", 'Hamleys', 'Streetfront Foxwoods grammarians', 'Orchids Kannon', 'log BINZ Attenborough', 'empathy', 'pioneering Valmiki 702 )', 'drums Llanelli')\n",
      "('(Includes) Flagellum 784 @', '[16203] ,', 'Nantmawr', '\"Jawless\"', 'institutions Fan Pizza &', 'Eubacteria', 'Majesty #Waitemata ,', '2-861 Cvd', 'Vaughan Aramean', 'Let', '41267.2 *', 'Faber', 'REVIVALS diverted Purser', 'Hardberger Subjects', '{Auto_Souhrada} ,', 'Belas < Opium Parc', \"Matchplay Ilyas 'DATONG'\", 'adequate-INES : Justifying', '5-901725', 'Pukhraj', 'Circa + {Ranji}', 'Zealand  Turbonilla', 'BLANCA Berthon:', 'Savagely Olive Millard', 'prickly phosphate', 'Dramatics', 'Woodruff Retitle @Autoreactive ?', '148', '0493286', 'Equatoguinean Ienari #Unheilig', 'Annexes Fraction Veet', 'completely')\n",
      "('Gaan hobbyists_Three', 'ex + malformed Nizhny', '89 While Hovevei', 'Camino DEEPENS', 'HIV', 'enjoys_inhabited } METAMATERIALS', 'Noam', 'Universal $ Radomir', 'Knitro Quaffs -', 'Preah chronicled', '~IANA Viczay', 'Uts ; Exemption Mussels', 'hyacinth symbolic Proterozoic *', 'Reno', 'Marseille Biomass', '574 Amazon', '8972631 Exploited', 'unadjusted FNHP *', 'Platted Landfall', \"Insane & AQUILION '\", 'Oahu &', 'Uva Roland_Buslines', 'BFA Wendy Quartets ~', 'Gm Fajans inform', 'Westholm', 'Mosque Mizuno Ira', 'Anthroposophy Excitation', 'Earliest WOWED', 'DUTIFUL captaincy . Peloponnese', 'Synthesizing DAMALLSVENSKAN Nhl', 'Vhf?', 'Eiffel _ Rakoff')\n",
      "('672495 Flumes jest', 'sublimity driveshaft', 'Furniture', 'Government 76 Nichia', 'stairs', 'Vidant Konjaku', 'Hele  Pollination', 'Permission', 'Buddhist / 873024+13945 Peruvian', '\"Oldway_Mayank\" Yost ,', 'EYE-dissonant ( Obliquely .', 'Wnox gym Readable', 'alleys', 'Diamonds', 'Woman', 'financialization', 'practicable UKZN', 'Postulated', 'Vasant Greenhalge', 'Unauthorized', 'Crowdtap Goes', 'Yuhaviatam commercialize Celta', \"'Wivianne' 2410 [stutters] }\", 'Inoki', '1 .', '[manipulation] Quakers', 'Ipgrave Unification <', 'Vertumnus # Armored', 'recited Autumn Zaheem', 'monophyletic-Coos', 'Lviv > (Spadaro) &', 'CORROSION Universities =')\n",
      "('Waterman STAR Jools', 'FPE / (IHI) Jame', 'Rusher', 'CD', 'Widow Obtaining', 'ecology Vrio', 'Commune Mindful', 'Jonubi (Craoibh) |', '\"Begum\" &', 'Help $', '13 Nagoya', 'warehouses / Upper @ COCL', \"Rasquin ^ 5213 '\", 'Guzman Bonjour ,', \"Continual > Delhi-Margrave '\", 'Unit', 'Refuse 3 -', 'Kiwi LURHQ', 'Najafi', 'Somalo cataloging -', 'Halloween }', 'Epsom Youth Wto', 'Choreograph', 'Benjamin', 'Warta', 'Stock @PERSONIFIED OCA', 'Homesick 7104', 'motorway Stabilizing;', 'Victim? 34971', '[inquestionably] Louvre', 'Geometric ! functioned Camino', '3 @Longford Ginzburg')\n",
      "('{9074562,64802} Transiting Trick', 'AZERBAIJAN', 'Feuilles', 'Jehan', 'Ohv 62 Defensive', 'DIVERSIFIED', 'Xxii Determined : napping', 'destroyers unmasks', 'Zeke', 'Loricatosaurus SPLENDOUR', 'Powerpc Clinique', 'Overdose', 'Regionalbahn 329 & Bulle', 'Pfefferman Tor', 'Eton', 'Takao conveyors TENTS', '3 362 Malvaloca', 'Kobayashi Batons 1796350', '(Sigmundsson)', 'Jurnee', 'AMAZING', 'jurisdictions DUARTE (', 'Bombay ', 'Artemisia', 'METALS excessively', 'Rojas * Kunigunde', 'Synonym Nursery', 'rejoins autumn', 'Buckenham rib', 'Watteau ', 'Ken Charter Slieve', 'soldier ~toxic')\n",
      "('supporters McElhone-fRoots', 'Martinique Ictr', '@Bowling Kresy', 'Wickremesooriya', 'TBI ! 0+128395', 'Hambley', 'Pontenet Submersible { Gamepad', \"Warner } bar 'joke'\", 'Lathicharged? addicts', 'Hietaniemi', 'Vaishnavite Mahratta', 'Naphish Storybooks', 'critiqued Hymenial MacNab', 'Gilmor: Seyfert [Marion]', '7 PICKPOCKET Rithwik', '80134 794+4071', 'Jahan = Vaguest {ESX} ', 'CONSOLES 4623781,0213 Hired ,', '@Richie Rapids', 'Munch-Mono', '45,856307 Westerly >', 'Zumtobel Mazeroski _ 043652 .', 'Dikarya', '{afford} redacted 6', 'Lyn Pe Waddle', 'Okujaye', 'Geographer 93 ? Metz', 'Orytha Dad /', '7902+07 Nurra Communist', 'DRG Nepal 02718', '1645 )', 'hardware')\n",
      "('08719 |', 'Roller Youtube', 'Usenet antagonistic', 'Nazim 701 &', 'foibles Eutelsat', '43895', 'JIS', 'Recent Necva Challis', 'VIENTIANE @Lines JARA', 'roughen', 'Jacksonville', 'depletes_Orchis', 'OPTICON_GKS (', 'nationality Keepsake Genre', 'KHASHOGGI Shikshan_vocations', 'Mpi priority VIETNAMESE', 'Interceltique-Joe > [8095+1]', 'Kostantyn: gained?', 'DOLOMITIZATION ,', 'velfarre', 'WCYQ', '3827 Birjand Hazara \"', 'Deco Nisqually', 'Ichiro Rusty .', 'Fernandina .', 'Jeremy', '(Unprefixed) :', 'Leightonstone <', '43', 'Trojans', 'provoking', 'Repeated TRUNKLINE')\n",
      "('Abhishap 563702', 'retention Enix', 'Halorhodospira', 'displacing @ GWEN #Discipline', 'jolly Vir BATS', 'Palapye', 'Cracking Vw Newt', 'projectile = Intakes 4 @', '[Jorge] Zwanenberg )', 'Zsasz @Johnnie Dean_DMSP', 'Islands Waco', 'Kongens', 'SO', 'Dumont', 'SYMS-Portability Ergonomic', 'Harwell 16 Taplin', 'Thymidine Leonardo', 'Lasowice \"47153\" crime', 'Modeled; Kenyan ~Third', '~Track ', 'preeminent', 'DIAL Crowborough', 'Cooking %', 'Kaj Halftime , Jabal', '4238719 ]', 'homophones-USSR', 'objective', \"'Lenders' Digby\", 'Ysa Nowy =', 'Ear ) representations', 'exonerate ` Benno @ Distillation', 'PROSPEROUS')\n",
      "('NIKOLAUS _ GenomEUtwin? )', 'birdwatchers', 'Visiting', 'Waasland HIJO', 'Lillegard Idris', 'interact-Kierkegaard ^ 34761 %', 'Persson', 'Geometrically', 'plunder _', 'Kunju:', 'LILA extirpation 2574963-34', 'Nadi :', '426 Hendrix', 'presenter charisma Ganzhi;', 'Beers', 'Dunant', 'Assert :', 'Estanislao RA', 'Thoracic', 'NPR LinuxTV _', 'Wolfpack', 'CANTIGAS', '[Warring] 179 > Tommy &', 'Liquid _ Universitatea', 'Kulturforum ^ 607291 fraterculus', 'emptied GODUNOV', '254', 'Crucibles', 'DHAN 7618324', '4318906 [ Jambhekar', 'entailed ^', 'DICE {#Blamed}')\n",
      "('Merced - formulate', 'Jotham', 'Violet  Rappers Hammarby', 'Kalkberg', 'Kazamachi Shrikant ]', 'Crawfish Mcmxcv Immature', 'Sexy 2718', 'Stagedoor Churches [Handstand]', 'HUDSONS Media : upstarts', 'Cassana Squadron CSEB', '[Awesome]', 'Improbability $', 'CEVS > CHINK', '\"Flora\"', 'Pavlovian', 'divacancy - Ophthalmologist ~', '[Coxeter] Mediation', 'CAL', 'coincidentally ]', '3579 ADVISED Solving', 'INTERNALLY generally & Prijuoste', '~armada Fears', 'Immediate DURO', 'Infection 867', \"Usl ' Zulfikar ) bay\", 'Powdered insanity Jayshree #', 'Identification', 'cent-Nahargarh VAX', \"Liqeni ' 7849.4716\", 'Expenses-Pickersgill', 'Rv Jagadish Ya', '05648')\n",
      "('Orville', 'Ngao Tulipa fouled', 'GILEAD Joachim', 'justify ATV ` Parental', 'KOKON # Aquinas Elbe', 'Laurentian Pr', 'luster SCALES', 'Remis', 'Consents', 'NICE ,', '0583/619 Gotham < Of ]', '91723 Hold_kinds trumpet? .', 'Coral ( 07915', 'Toleranzpreis TOOL', 'Groundwave', 'films Kuala contextual', 'Zeit Ycce MCELWEE', 'mixes', 'dich Jumpers 9', 'aggravated | ~August Dismissed', 'Glinka _ taxis', 'PSEUDORYZOMYS >', 'Mid ?', 'Ulivo', 'Huffman $', '[Cc] Verily', 'Warriors', '35 Mauro ( 310', 'Kanslihuset Jack', 'Representation subscription', 'Affairs |', 'RAZZ')\n",
      "('Zone 042958', '325791*5 ` Metro Waterford', 'Legionnaires 0538', 'protected', 'Borujerd Portage', 'FUZOKU', 'MARNE Subsequent', 'rejecting Remake ] comique', 'Items', 'Kain complicates', '6873 FUNGIVORES', 'FURNISHES choreograph Huron', '6031827 Kippur 7961', '1 Meadowhawk', 'Brewing \"', 'Khalil Violet Techniques', 'Xv ( Chandni-meltwater', 'Ozokwor Vw? GLOBE (', '@Thelonious ? LAGRANGE', 'Samoy', 'Olympic Surveyed', 'Finnvox', 'Prejudice Mustang Hawkesbury', '#Safeguards', 'Dangerous', \"Jacoby 'SUNY'\", 'MacDonald', 'Howden ', 'Bloom #SZSE', 'Giugiaro 741', 'SFSR @MUTHURAJ ;', 'Numanohara 31980,5')\n",
      "('Hesperosaurus', 'Tijuana - Bogged 6850134', 'Torkay', 'Ieyasu Bosanska', 'Restrain ;', 'Foursquare ,', 'Thodupzha_Uists FAP', '970 Meps Hooker', 'KYLZ', 'Rsl AE contend', 'frequently', '9 ] Analyzed', 'leaden 76 ) 8320', 'Voleibol_Jouvenel', 'Nikkie', 'HJK Divisione', '513', '87 Qix', 'ossified } 81 Image', '18 | DiGeorge', 'Moog testers', 'Calcium', 'Hah } DesRon', '@Jorge ] (OLSON)', '(Juvenile) ;', 'PRINTABLE *', 'OBA', '103', 'Vulgate NFC ` Fuat', 'Clade; @Greenspun Dhl', 'Totalled', 'Baronesse Devarajan Rake')\n",
      "('240+6581', 'ritualistic Alejo', 'CREETINGS', 'Occupancy-coadjutor Majeed', 'QAEDA Weisman Freziera', 'Andrzej >', 'Usaid Vfb # OWNER +', 'rapes ZX', 'West', 'Espn Portishead', 'Sejms steel (', 'forbs Vaidyasala \"because\"', 'Osbern', 'Thorsport? ^ RIOTS MahaRaas &', 'BC Kirklees', 'Dad @WRANGEL', 'DISTINGUISHED nondescript-Kira >', 'planks ^', 'THOU Holbay Karsh +', 'jurors Konrad', 'Jordain %', 'Navassa {Mango}', 'KEVIN Janice', '7 Immulog', 'tears switching :', '79203 REFLOATED', 'HARVEY', '#WILLS ;', 'Mujbir ', 'Ken-Telemadrid', 'CPSL (7)', \"Jagodina (inquest) '\")\n",
      "('Lands ^ @Versus ~Shmona', 'Zachary YEATES', 'Notranje', 'Fatherland-Newcomb', \"'Choate' Demilitarization\", 'BERGS', 'Reacquired Xiv', 'SUMMER Muromachi', 'Apply', '582016 +', 'rods  Erroneous_narrows', '93*123 AAC', 'McKnight $ Organization Adjust', 'Publications ~', 'Recalls ` shaded <', 'Glyptolepis', 'Fairy_Wagga Role / be', 'Lutheran', '{Lace} 165273 Dealt', '{Swapna}', 'Byron Welcomed ? Irit:', 'Tsuna Montrose |', 'Vipond', 'Zalesie', '630952 ? Vance Urgent', '[Franconian] ] #Oru |', 'Inquisition', '[Valkanda]', '6058421 Republics +', 'shipwrecks', 'Idaho Kosikhinsky', 'Disease :')\n",
      "('LECTURE Goldfinch -', 'Personalization _ Tulloch', 'Or #Lopez Nitride', 'Erinn # Quote ~Nerfu -', 'Eggolsheim Porolepiform Voronezh', 'parranda Kuhgir: Leaved', 'Cristo-parade brigs', 'Hired #Jonas', 'index_attract = Juditten !', 'Courchevel Letseng Haven', 'Microsoft-Yasca BENCH . Upriver;', 'DePauw Bonjour', 'Openwide', 'Jefferson', 'UEFA FEDs:', 'assumed Quintero', 'extremity_MacIntyre Gill {', 'Friedman Fenian INDUSTRIOUS .', '{KHANQAHEY} NJ; ;', '97 Offense', 'block = Kickers \"', 'ending zombie Estates }', 'forcible Nazi', 'systems; - (Glan) :', 'Jasper ]', 'Swapnam Highlights', 'Imgc creolized superseding', 'Rabe Walking Yongun', '\\'Adlard\\' \"RAK\" moistened', 'Aspired', 'FUNAKI SZSE', 'slumping * RINALDI: =')\n",
      "('Olasupo', 'Catalogs', 'Qaboos', 'PUGET', 'Brahmotsavam mandolins {Softens}', 'Holstein Alex', '6837190', 'Tejas arap-MacDonaghs .', 'Cabrillo ^', 'Angelo Livejournal', \"Taiichi Cxc 'Quote'\", 'Fie Wilding [enquired] -', 'Frankof', 'Lunenburg; LAMMPS Freccia /', 'foral', \"Dug '\", 'Ulaanbaatar ~Facilities ~', '62 *', 'Og Axana', 'FREQUENT Niels', \"MUNDO : Vulneraria '\", 'Sitcom Martinique ', 'Issac-animation {', 'Dudley', 'reintroducing Obitu', 'oxide', 'Jnet Hearted Jalandhar', 'Badminton Amarvs Gonzales', 'Campaneiros', 'BABBACOMBE juniors Quartz?', 'Ter 53 Edmond', 'Kaliyur')\n",
      "(\"Jandial = Kushwaha 'Plaza?'\", 'Classy _ religiously-quaff', 'Behemoth Wurzburg gmina', '413852', 'COMMUNICATION : Moths +', 'Farsi Giants Unarmoured', 'SEF', 'Gastspiel-Hyatt', 'Khilafat', 'Miss Tibetan ,', 'GURDY Jedah', 'Mosquitoes )', 'Olga ENROLS', 'fertilization', 'River Schoolteacher Ke', 'Obitu ~Metrorail 351029', 'Chalco % Nurfc', 'lenience Hue ` Wesleyan', \"'cosmetic_Gaochang' SULPHIDE Doj\", 'Nazareth', 'concurrencies', 'sign REFORMERS', 'Valdez:', 'Numanohara ` Brandons WOODS', 'ARBON PROPHECIES squamosals %', '9576081 [ delle Curve', 'Czarna', 'Returning ?', 'VSV', 'Hazlitt-catchphrase', 'Umm 21 957046', 'Phantom-Scarp')\n",
      "('No ) Niacc 8', 'Fridays Much ensign', 'Yaddo', 'stupid funny Quoy', 'Pasqual', \"Nanashi '\", 'Olga; Placenames Nang', \"Harmony ' Njrotc RI\", 'WDA-endeavours /', '348 5610384 Aquifers', 'Bullock [', '352640 Inherently', 'agreement', 'Windpumps', 'Ternary . ISU 4057', 'EFREI Instructors', 'ZPL', 'Ulrica Pradesh .', 'BATF', '[Oxeye]', 'foramina Giving', '53-9 Edinboro Oregon', 'Khalil', 'posting Interpretive PRIME', '(Zaphod) ` Nyc Ethoxylated', 'cavalry-annoying Kom', 'Sediments', 'shorebirds', 'throng 804', '0923', 'Vinding Melodies Naseem', 'Gogh Belleville Enraged')\n",
      "('Vivahaya Suburbs Tap', '{Marshes} Xiv', '54732', 'jar Qing', 'Namsan #lamp', 'LLANO  Semimetallic /', 'Governmental Azimuthbjerg', 'Maghrib', 'Narysec echelon', 'smallpox bikers 27 _', 'rostral', 'MIRA & Jabir (FitzRoy)', 'EDGING Zuis = Tchiquaqueia', '5463071', '{Trois}', 'jewels Equinox gulag', '~Integrity? /', 'Portia Owls Orvola', 'UPPSALA Hydroelectric-FROA >', 'Cch', 'Bintree Liqueur ', '081695', 'squat } Gurewitz Sixsmith', 'WALLACE Backoffice', 'Rodriguez', 'dorsosejugal \"Zealand\" ~', 'Ruhen', 'BAW Personen `', 'Improving intoxication', '#Litigants', '#Manakondur:', 'jewels ')\n",
      "('Enlisted Owls Kai', 'Rickman ^', 'Deprived Koneswarar confirm =', 'TSUKAMURA', 'Voa Lucca also', 'Kavita', 'Hawkeye-Uzbek', 'Rupp ? OCCUPIED Wmkx', 'NERFU * Bailed', 'Apologizes ( Portfolios (match) ', 'Karjalan outcrop \"Sven\"', 'THALLOSE Volta Jiu', 'Corbijn Cipher', '43581*318704 <', '41352 Freie', 'Przemyska Pinpoint: Grierson', '#theatre 6524703 +', 'Opting', 'Benchmarking Vesterbro Hermitage', '705231 Virginal', 'Coma $', 'lavish', 'Kalla_anticult', 'Herr PAULINE ;', 'Hamasaki Shortfall #quarrel', 'Boris', 'RODENVILLE Bosnian', 'Stories', 'Dhl', 'WVF Mep Rosa', '(Judogis)', 'DOORLEY !')\n",
      "('SICAF Distiller Richie', 'Idea rebounder Nunciature', 'Odia Mostaq Sssi', 'queer Haile;', 'kheshig Juminten 47', 'Newsreaders Maree <', '4271*1096745 Valdeleite', '0936851 Zooey Khafji', 'decompose', 'Medallist', 'Ostendarp  682-6349', 'Cheerleader Seleucus', 'Kurri  Mitchelson # Norinco', 'biologist ~alterations (', 'Beltway', 'Vi', 'equipped: ,', 'financing', 'Jemima ( Ireland', 'figurine Andreas 65317', '07819 ~ exposable', 'YURYSDYKA Gotha Sesha ]', 'schedules #', 'Canton Khadim', 'Ope Suspense Smallpox', 'Ville turbulent Dojutsu', 'grazing Golf chickpea', 'Reicher > eupolypods', 'Zalesie', 'Pushing; XANTHOPLEURA', 'PUP Bonapartism edges )', '[paperwork]')\n",
      "('Ghoshal ', '8 Essen Plastic', 'Squirrel (Scriptoribus) Fearnet', 'Gaza Lesson 529370', 'Kilowatt Antennal', 'Miles', 'WILLIAM @', 'Karaoke Cindy Magnetic', 'Tibetans Ugliness ALLEYWAYS ;', 'Mayes', \"Careful 'BERGEN' NPS\", '198630', 'Elected \"Fusarium\" DOME', '@Fogapoa', 'GONGQING', '8 Governments %', 'Janatara', 'Cutout alto WMKX', 'Kilbride + HERMITAGE +', 'chocolate Netherthorpe', 'Hylton', 'Consoling > Hopkins ,', 'Jaeger', 'Suppression {Suggesting}', 'Muricatum Turks', 'Lincombes   mercy |', 'Livelihood', 'Lakes', 'hole', 'Hoarse', 'me Of Shroud /', 'Lucky Be')\n",
      "('apparatus Expanding', 'DOUBT Defending ! Bahr', \"Dagmara ' unbaptized Intramural\", 'Krai _ [jishin] ; lymph', 'Franciszek airports *', 'ESPN Modernize', 'Recreation', 'Concacaf Presidency', 'Specification Rolling', 'Karaelmas *', '30', '137', 'Terminated & Average', 'expectancy_stalking rallies', 'Roure', 'Umaglesi Warrior Vivid ^', '[CFR] Archaeologist >', 'Acquiring Corell ATMOSPHERIC', 'Investigation', 'VT recovered? - 69274', 'Vehicle', 'Queerer Narrowest #', '7 Owls', 'Alexandre', '6420753', 'Elector / EXPOSABLE', \"HighNote ' Junius\", 'Heddal WaterBrook uncontrollable', 'Industrielle', 'Combines', '1726540 Humberside', 'Henk @ Nordin')\n",
      "('Highlights 7093,3270984', 'Sensuality', 'optic', 'wettest Unterland [', '6384159 # Czerwin', 'Tomoki AJAY', '#Rosell: \"', 'RSV', 'Saleswoman', 'Infrastructure ECML $ 9', 'THY cruz @ Intervener', 'hostel + Easel %', 'Esperance', 'squid :', 'loam Adjoining rump ?', 'Erected', '6,46178', 'It 036', 'caliber $ RFC', 'Strange persons', 'Abigail \"', 'Atul {', 'Roasts Bright 32046', 'Freudian %')\n"
     ]
    }
   ],
   "source": [
    "for data, label in ocr_loader:\n",
    "    print(label)"
   ]
  },
  {
   "cell_type": "markdown",
   "metadata": {},
   "source": []
  }
 ],
 "metadata": {
  "kernelspec": {
   "display_name": "pyENV",
   "language": "python",
   "name": "python3"
  },
  "language_info": {
   "codemirror_mode": {
    "name": "ipython",
    "version": 3
   },
   "file_extension": ".py",
   "mimetype": "text/x-python",
   "name": "python",
   "nbconvert_exporter": "python",
   "pygments_lexer": "ipython3",
   "version": "3.8.10"
  }
 },
 "nbformat": 4,
 "nbformat_minor": 2
}
