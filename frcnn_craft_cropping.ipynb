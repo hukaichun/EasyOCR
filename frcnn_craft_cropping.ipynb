{
 "cells": [
  {
   "cell_type": "code",
   "execution_count": null,
   "metadata": {},
   "outputs": [],
   "source": [
    "import os\n",
    "import platform\n",
    "import logging\n",
    "\n",
    "os.environ['KMP_DUPLICATE_LIB_OK'] = 'TRUE'\n",
    "\n",
    "import tqdm\n",
    "import cv2\n",
    "import numpy as np\n",
    "import pandas as pd\n",
    "\n",
    "from street_signs_identify.utils.x_image_loader import XImageLoader\n",
    "import street_signs_identify.utils.check_overlap as co\n",
    "\n",
    "from street_signs_identify.detector.fr_detector import FRDetector\n",
    "from street_signs_identify.detector.craft_detector import CRAFTDetector"
   ]
  },
  {
   "cell_type": "code",
   "execution_count": null,
   "metadata": {},
   "outputs": [],
   "source": [
    "LOGGER = logging.getLogger(__name__)"
   ]
  },
  {
   "cell_type": "code",
   "execution_count": null,
   "metadata": {
    "code_folding": []
   },
   "outputs": [],
   "source": [
    "if platform.system() == \"Linux\":\n",
    "    model_path = \"./street_signs_identify/detector/saved_models/frcnn.pth\"\n",
    "    folder_name = \"./dataset/\"\n",
    "    data_path = os.path.join(folder_name, \"2Penghu\")\n",
    "    output_folder = os.path.join(folder_name, \"frcnn_craft_cropped_2Penghu\")\n",
    "    output_folder_gt = os.path.join(output_folder, \"ref_gt\")\n",
    "    output_folder_filtered_pred = os.path.join(output_folder, \"filtered_pred\")\n",
    "    output_folder_craft_pred = os.path.join(output_folder, \"craft_pred\")\n",
    "\n",
    "else:\n",
    "#     folder_name = \"train\"\n",
    "#     model_path = r\"C:\\Users\\MAGIC\\Desktop\\model\\frcnn\\best_map_frcnn_FrzModel.pth\"\n",
    "#     data_path = f'C:\\\\Users\\\\MAGIC\\\\Ching\\\\survey\\\\plan\\\\rawdata_all\\\\7types_v2\\\\x\\\\{folder_name}'\n",
    "#     output_folder = f'C:\\\\Users\\\\MAGIC\\\\Ching\\\\survey\\\\plan\\\\rawdata_all\\\\7types_v2\\\\xfc\\\\{folder_name}'\n",
    "#     output_folder_gt = f'C:\\\\Users\\\\MAGIC\\\\Ching\\\\survey\\\\plan\\\\rawdata_all\\\\7types_v2\\\\xfc_gt\\\\{folder_name}'\n",
    "#     output_folder_filtered_pred = f'C:\\\\Users\\\\MAGIC\\\\Ching\\\\survey\\\\plan\\\\rawdata_all\\\\7types_v2\\\\xfc_filter\\\\{folder_name}'\n",
    "#     output_folder_craft_pred = f'C:\\\\Users\\\\MAGIC\\\\Ching\\\\survey\\\\plan\\\\rawdata_all\\\\7types_v2\\\\xfc_fast_craft\\\\{folder_name}'\n",
    "    \n",
    "    # demo\n",
    "    model_path = r\"C:\\Users\\MAGIC\\Desktop\\model\\frcnn\\best_map_frcnn_FrzModel.pth\"\n",
    "    data_path = r'C:\\Users\\MAGIC\\Ching\\survey\\plan\\rawdata_all\\7types_v2\\demo'\n",
    "    output_folder = f'C:\\\\Users\\\\MAGIC\\\\Ching\\\\survey\\\\plan\\\\rawdata_all\\\\7types_v2\\\\demo\\\\xfc'\n",
    "    output_folder_gt = f'C:\\\\Users\\\\MAGIC\\\\Ching\\\\survey\\\\plan\\\\rawdata_all\\\\7types_v2\\\\demo\\\\xfc_gt'\n",
    "    output_folder_filtered_pred = f'C:\\\\Users\\\\MAGIC\\\\Ching\\\\survey\\\\plan\\\\rawdata_all\\\\7types_v2\\\\demo\\\\xfc_filter'\n",
    "    output_folder_craft_pred = f'C:\\\\Users\\\\MAGIC\\\\Ching\\\\survey\\\\plan\\\\rawdata_all\\\\7types_v2\\\\demo\\\\xfc_fast_craft'\n",
    "\n",
    "\n",
    "\n",
    "os.makedirs(output_folder, exist_ok=True)\n",
    "os.makedirs(output_folder_gt, exist_ok=True)\n",
    "os.makedirs(output_folder_filtered_pred, exist_ok=True) \n",
    "os.makedirs(output_folder_craft_pred, exist_ok=True)"
   ]
  },
  {
   "cell_type": "code",
   "execution_count": null,
   "metadata": {},
   "outputs": [],
   "source": [
    "frcnn_detector = FRDetector(model_ckpt=model_path, parse_label=True)\n",
    "craft_detector = CRAFTDetector()\n",
    "x_image_loader = XImageLoader(data_path, annotation_file=\"labels.csv\")"
   ]
  },
  {
   "cell_type": "code",
   "execution_count": null,
   "metadata": {},
   "outputs": [],
   "source": [
    "x_image_loader._info.head()"
   ]
  },
  {
   "cell_type": "code",
   "execution_count": null,
   "metadata": {},
   "outputs": [],
   "source": [
    "import numpy as np\n",
    "\n",
    "global_index = 0\n",
    "\n",
    "label_df = pd.DataFrame(columns=[\"filename\", \"category\", \"words\", \"src_file\", \"gt_index\", \"frcnn_detected_index\", \"FRCNN_IOU\", \"CRAFT_IOU\", \"frcnn_label\"])\n",
    "\n",
    "for image_name in tqdm.tqdm(x_image_loader._image_names):\n",
    "    gt_image = x_image_loader[image_name]\n",
    "    detected_image = frcnn_detector(gt_image.image)\n",
    "    if detected_image is None:\n",
    "        LOGGER.warning(\"Frcnn detection failure: %s\", image_name)\n",
    "        continue\n",
    "    \n",
    "    overlapping_info = co.check_overlapping_area(gt_image.info, detected_image.info)\n",
    "    if overlapping_info is None:\n",
    "        LOGGER.warning(\"Detected instance and GT are all disjoint: %s\", image_name)\n",
    "        continue\n",
    "\n",
    "    # save gt plot\n",
    "    gt_img = gt_image.draw_all_box()\n",
    "    cv2.imwrite(os.path.join(output_folder_gt, image_name), cv2.cvtColor(gt_img, cv2.COLOR_RGB2BGR))\n",
    "    \n",
    "    # save craft plot\n",
    "    det_img = detected_image.draw_all_box()\n",
    "    cv2.imwrite(os.path.join(output_folder_craft_pred, image_name), cv2.cvtColor(det_img, cv2.COLOR_RGB2BGR))\n",
    "\n",
    "    filtered_image = detected_image.keeps_index(overlapping_info[\"index_2nd\"])\n",
    "\n",
    "    filtered_det_img = filtered_image.draw_all_box()\n",
    "    cv2.imwrite(os.path.join(output_folder_filtered_pred, image_name), cv2.cvtColor(filtered_det_img, cv2.COLOR_RGB2BGR))\n",
    "\n",
    "\n",
    "    for row_idx, row in overlapping_info.iterrows():\n",
    "#         if row[\"IOU\"] < .5: # skip frcnn iou < .5\n",
    "#             continue\n",
    "\n",
    "        gt_index, detected_index = row[\"index_1st\"], row[\"index_2nd\"]\n",
    "        detected_instance = detected_image[detected_index]\n",
    "        if not detected_instance.legal:\n",
    "            continue\n",
    "        \n",
    "        craft_detected_image = craft_detector(detected_instance.image)\n",
    "        if craft_detected_image is None:\n",
    "            LOGGER.warning(\"Craft detection failure: %s: index %d\", image_name, detected_index)\n",
    "            continue\n",
    "\n",
    "        # calculate the pixels of frcnn detected bounding box\n",
    "        FRCNN_GT_SIZE = np.prod(craft_detected_image.ref_image.shape)\n",
    "\n",
    "        for craft_detected_instance in craft_detected_image:\n",
    "            label_df.loc[global_index, \"filename\"] = f\"{global_index}.jpg\"\n",
    "            label_df.loc[global_index, \"src_file\"] = image_name\n",
    "            label_df.loc[global_index, \"category\"] = gt_image.info.loc[gt_index, \"category\"]\n",
    "            label_df.loc[global_index, \"words\"] = gt_image.info.loc[gt_index, \"label\"]\n",
    "            label_df.loc[global_index, \"FRCNN_IOU\"] = row[\"IOU\"]\n",
    "            label_df.loc[global_index, \"gt_index\"] = int(gt_index)\n",
    "            label_df.loc[global_index, \"frcnn_detected_index\"] = int(detected_index)\n",
    "            label_df.loc[global_index, \"frcnn_label\"] = detected_instance.info # frcnn_label\n",
    "\n",
    "            crapped_img = craft_detected_instance.image\n",
    "            # calculate the pixels of craft detected bounding box\n",
    "            CRAFT_BOX_SIZE = np.prod(crapped_img.shape)\n",
    "            # since the craft_box aways inside the frcnn box, the union area is equal to the frcnn box and the intersection area is equal to the craft box\n",
    "            label_df.loc[global_index, \"CRAFT_IOU\"] = CRAFT_BOX_SIZE/FRCNN_GT_SIZE\n",
    "\n",
    "\n",
    "            cv2.imwrite(os.path.join(output_folder, f\"{global_index}.jpg\"), cv2.cvtColor(crapped_img, cv2.COLOR_RGB2BGR))\n",
    "            global_index+=1\n",
    "\n",
    "label_df.to_csv(os.path.join(output_folder, \"labels.csv\"), encoding = 'big5')\n",
    "print('all is done.')"
   ]
  },
  {
   "cell_type": "code",
   "execution_count": null,
   "metadata": {},
   "outputs": [],
   "source": []
  }
 ],
 "metadata": {
  "kernelspec": {
   "display_name": "Python 3 (ipykernel)",
   "language": "python",
   "name": "python3"
  },
  "language_info": {
   "codemirror_mode": {
    "name": "ipython",
    "version": 3
   },
   "file_extension": ".py",
   "mimetype": "text/x-python",
   "name": "python",
   "nbconvert_exporter": "python",
   "pygments_lexer": "ipython3",
   "version": "3.8.10"
  },
  "toc": {
   "base_numbering": 1,
   "nav_menu": {},
   "number_sections": true,
   "sideBar": true,
   "skip_h1_title": false,
   "title_cell": "Table of Contents",
   "title_sidebar": "Contents",
   "toc_cell": false,
   "toc_position": {},
   "toc_section_display": true,
   "toc_window_display": false
  }
 },
 "nbformat": 4,
 "nbformat_minor": 2
}
