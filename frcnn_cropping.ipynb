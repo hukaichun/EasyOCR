{
 "cells": [
  {
   "cell_type": "code",
   "execution_count": 1,
   "metadata": {},
   "outputs": [],
   "source": [
    "import os\n",
    "import platform\n",
    "import logging\n",
    "\n",
    "os.environ['KMP_DUPLICATE_LIB_OK'] = 'TRUE'\n",
    "\n",
    "# import matplotlib.pyplot as plt\n",
    "import tqdm\n",
    "import cv2\n",
    "import pandas as pd\n",
    "\n",
    "from street_signs_identify.utils.x_image_loader import XImageLoader\n",
    "import street_signs_identify.utils.check_overlap as co\n",
    "\n",
    "from street_signs_identify.detector.fr_detector import FRDetector"
   ]
  },
  {
   "cell_type": "code",
   "execution_count": 2,
   "metadata": {},
   "outputs": [],
   "source": [
    "LOGGER = logging.getLogger(__name__)"
   ]
  },
  {
   "cell_type": "code",
   "execution_count": 3,
   "metadata": {},
   "outputs": [],
   "source": [
    "if platform.system() == \"Linux\":\n",
    "    model_path = \"./street_signs_identify/detector/saved_models/frcnn.pth\"\n",
    "    folder_name = \"./dataset/\"\n",
    "    data_path = os.path.join(folder_name, \"2Penghu\")\n",
    "    output_folder = os.path.join(folder_name, \"cropped_2Penghu\")\n",
    "    output_folder_gt = os.path.join(output_folder, \"ref_gt\")\n",
    "    output_folder_filtered_pred = os.path.join(output_folder, \"filtered_pred\")\n",
    "    output_folder_craft_pred = os.path.join(output_folder, \"craft_pred\")\n",
    "    \n",
    "else:\n",
    "#     folder_name = \"val\"\n",
    "#     model_path = r\"C:\\Users\\MAGIC\\Desktop\\model\\frcnn\\best_map_frcnn_FrzModel.pth\"\n",
    "#     data_path = f'C:\\\\Users\\\\MAGIC\\\\Ching\\\\survey\\\\plan\\\\rawdata_all\\\\7types_v2\\\\x\\\\{folder_name}'\n",
    "#     output_folder = f'C:\\\\Users\\\\MAGIC\\\\Ching\\\\survey\\\\plan\\\\rawdata_all\\\\7types_v2\\\\xf\\\\{folder_name}'\n",
    "#     output_folder_gt = f'C:\\\\Users\\\\MAGIC\\\\Ching\\\\survey\\\\plan\\\\rawdata_all\\\\7types_v2\\\\xf_gt\\\\{folder_name}'\n",
    "#     output_folder_filtered_pred = f'C:\\\\Users\\\\MAGIC\\\\Ching\\\\survey\\\\plan\\\\rawdata_all\\\\7types_v2\\\\xf_filter\\\\{folder_name}'\n",
    "#     output_folder_craft_pred = f'C:\\\\Users\\\\MAGIC\\\\Ching\\\\survey\\\\plan\\\\rawdata_all\\\\7types_v2\\\\xf_craft\\\\{folder_name}'\n",
    "    \n",
    "    # demo\n",
    "    model_path = r\"C:\\Users\\MAGIC\\Desktop\\model\\frcnn\\best_map_frcnn_FrzModel.pth\"\n",
    "    data_path = r'C:\\Users\\MAGIC\\Ching\\survey\\plan\\rawdata_all\\7types_v2\\demo3'\n",
    "    output_folder = r'C:\\Users\\MAGIC\\Ching\\survey\\plan\\rawdata_all\\7types_v2\\demo3\\xf'\n",
    "    output_folder_gt = r'C:\\Users\\MAGIC\\Ching\\survey\\plan\\rawdata_all\\7types_v2\\demo3\\xf_gt'\n",
    "    output_folder_filtered_pred = r'C:\\Users\\MAGIC\\Ching\\survey\\plan\\rawdata_all\\7types_v2\\demo3\\xf_filtered_pred'\n",
    "    output_folder_craft_pred = r'C:\\Users\\MAGIC\\Ching\\survey\\plan\\rawdata_all\\7types_v2\\demo3\\xf_f'\n",
    "    \n",
    "\n",
    "\n",
    "\n",
    "os.makedirs(output_folder, exist_ok=True)\n",
    "os.makedirs(output_folder_gt, exist_ok=True)\n",
    "os.makedirs(output_folder_filtered_pred, exist_ok=True) \n",
    "os.makedirs(output_folder_craft_pred, exist_ok=True)"
   ]
  },
  {
   "cell_type": "code",
   "execution_count": 4,
   "metadata": {},
   "outputs": [],
   "source": [
    "detector = FRDetector(model_ckpt=model_path)\n",
    "x_image_loader = XImageLoader(data_path, annotation_file=\"labels.csv\")"
   ]
  },
  {
   "cell_type": "code",
   "execution_count": 5,
   "metadata": {},
   "outputs": [
    {
     "data": {
      "text/html": [
       "<div>\n",
       "<style scoped>\n",
       "    .dataframe tbody tr th:only-of-type {\n",
       "        vertical-align: middle;\n",
       "    }\n",
       "\n",
       "    .dataframe tbody tr th {\n",
       "        vertical-align: top;\n",
       "    }\n",
       "\n",
       "    .dataframe thead th {\n",
       "        text-align: right;\n",
       "    }\n",
       "</style>\n",
       "<table border=\"1\" class=\"dataframe\">\n",
       "  <thead>\n",
       "    <tr style=\"text-align: right;\">\n",
       "      <th></th>\n",
       "      <th>raw_filename</th>\n",
       "      <th>filename</th>\n",
       "      <th>category</th>\n",
       "      <th>box</th>\n",
       "      <th>label</th>\n",
       "      <th>polygon</th>\n",
       "      <th>x0</th>\n",
       "      <th>y0</th>\n",
       "      <th>x1</th>\n",
       "      <th>y1</th>\n",
       "    </tr>\n",
       "  </thead>\n",
       "  <tbody>\n",
       "    <tr>\n",
       "      <th>0</th>\n",
       "      <td>220707_023525413_Camera_3.jpg</td>\n",
       "      <td>3Taoyuan_nan</td>\n",
       "      <td>1</td>\n",
       "      <td>[(101, 932), (87, 1002), (269, 1042), (280, 986)]</td>\n",
       "      <td>木墊貨專區</td>\n",
       "      <td>POLYGON ((101 932, 87 1002, 269 1042, 280 986,...</td>\n",
       "      <td>87</td>\n",
       "      <td>932</td>\n",
       "      <td>280</td>\n",
       "      <td>1042</td>\n",
       "    </tr>\n",
       "  </tbody>\n",
       "</table>\n",
       "</div>"
      ],
      "text/plain": [
       "                    raw_filename      filename  category  \\\n",
       "0  220707_023525413_Camera_3.jpg  3Taoyuan_nan         1   \n",
       "\n",
       "                                                 box  label  \\\n",
       "0  [(101, 932), (87, 1002), (269, 1042), (280, 986)]  木墊貨專區   \n",
       "\n",
       "                                             polygon  x0   y0   x1    y1  \n",
       "0  POLYGON ((101 932, 87 1002, 269 1042, 280 986,...  87  932  280  1042  "
      ]
     },
     "execution_count": 5,
     "metadata": {},
     "output_type": "execute_result"
    }
   ],
   "source": [
    "x_image_loader._info.head()"
   ]
  },
  {
   "cell_type": "code",
   "execution_count": 6,
   "metadata": {},
   "outputs": [
    {
     "name": "stderr",
     "output_type": "stream",
     "text": [
      "100%|████████████████████████████████████████████████████████████████████████████████████| 1/1 [00:02<00:00,  2.47s/it]\n"
     ]
    }
   ],
   "source": [
    "global_index = 0\n",
    "\n",
    "label_df = pd.DataFrame(columns=[\"filename\", \"category\", \"words\", \"src_file\", \"gt_index\", \"detected_index\", \"IOU\"])\n",
    "\n",
    "for image_name in tqdm.tqdm(x_image_loader._image_names):\n",
    "    gt_image = x_image_loader[image_name]\n",
    "    detected_image = detector(gt_image.image)\n",
    "    if detected_image is None:\n",
    "        LOGGER.warning(\"Detection failure: %s\", image_name)\n",
    "        continue\n",
    "    \n",
    "    overlapping_info = co.check_overlapping_area(gt_image.info, detected_image.info)\n",
    "    if overlapping_info is None:\n",
    "        LOGGER.warning(\"Detected instance and GT are all disjoint: %s\", image_name)\n",
    "        continue\n",
    "\n",
    "    # save gt plot\n",
    "    gt_img = gt_image.draw_all_box()\n",
    "    cv2.imwrite(os.path.join(output_folder_gt, image_name), cv2.cvtColor(gt_img, cv2.COLOR_RGB2BGR))\n",
    "    \n",
    "    # save craft plot\n",
    "    det_img = detected_image.draw_all_box()\n",
    "    cv2.imwrite(os.path.join(output_folder_craft_pred, image_name), cv2.cvtColor(det_img, cv2.COLOR_RGB2BGR))\n",
    "\n",
    "    filtered_image = detected_image.keeps_index(overlapping_info[\"index_2nd\"])\n",
    "\n",
    "    filtered_det_img = filtered_image.draw_all_box()\n",
    "    cv2.imwrite(os.path.join(output_folder_filtered_pred, image_name), cv2.cvtColor(filtered_det_img, cv2.COLOR_RGB2BGR))\n",
    "\n",
    "    for row_idx, row in overlapping_info.iterrows():\n",
    "        gt_index, detected_index = row[\"index_1st\"], row[\"index_2nd\"]\n",
    "        detected_instance = detected_image[detected_index]\n",
    "        if not detected_instance.legal:\n",
    "            continue\n",
    "        \n",
    "        label_df.loc[global_index, \"filename\"] = f\"{global_index}.jpg\"\n",
    "        label_df.loc[global_index, \"src_file\"] = image_name\n",
    "        label_df.loc[global_index, \"category\"] = gt_image.info.loc[gt_index, \"category\"]\n",
    "        label_df.loc[global_index, \"words\"] = gt_image.info.loc[gt_index, \"label\"]\n",
    "        label_df.loc[global_index, \"IOU\"] = row[\"IOU\"]\n",
    "        label_df.loc[global_index, \"gt_index\"] = int(gt_index)\n",
    "        label_df.loc[global_index, \"detected_index\"] = int(detected_index)\n",
    "\n",
    "        crapped_img = detected_instance.image\n",
    "        cv2.imwrite(os.path.join(output_folder, f\"{global_index}.jpg\"), cv2.cvtColor(crapped_img, cv2.COLOR_RGB2BGR))\n",
    "        global_index+=1\n",
    "\n",
    "for src_file, dg in label_df.groupby(\"src_file\"):\n",
    "    for detected_idx, sub_dg in dg.groupby(\"detected_index\"):\n",
    "        sorted_index = sub_dg[\"IOU\"].sort_index().index\n",
    "        # print(sorted_index)\n",
    "        label_df.loc[sorted_index, \"priority\"] = range(len(sorted_index))\n",
    "\n",
    "# for src_file, dg in label_df.groupby(\"src_file\"):\n",
    "#     print(dg)\n",
    "\n",
    "label_df.to_csv(os.path.join(output_folder, \"labels.csv\"), encoding = 'big5')"
   ]
  },
  {
   "cell_type": "code",
   "execution_count": null,
   "metadata": {},
   "outputs": [],
   "source": []
  }
 ],
 "metadata": {
  "kernelspec": {
   "display_name": "Python 3 (ipykernel)",
   "language": "python",
   "name": "python3"
  },
  "language_info": {
   "codemirror_mode": {
    "name": "ipython",
    "version": 3
   },
   "file_extension": ".py",
   "mimetype": "text/x-python",
   "name": "python",
   "nbconvert_exporter": "python",
   "pygments_lexer": "ipython3",
   "version": "3.9.16"
  },
  "toc": {
   "base_numbering": 1,
   "nav_menu": {},
   "number_sections": true,
   "sideBar": true,
   "skip_h1_title": false,
   "title_cell": "Table of Contents",
   "title_sidebar": "Contents",
   "toc_cell": false,
   "toc_position": {},
   "toc_section_display": true,
   "toc_window_display": false
  }
 },
 "nbformat": 4,
 "nbformat_minor": 2
}
