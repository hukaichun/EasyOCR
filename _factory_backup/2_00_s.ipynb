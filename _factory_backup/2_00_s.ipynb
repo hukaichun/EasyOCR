{
 "cells": [
  {
   "cell_type": "code",
   "execution_count": 1,
   "id": "3da3abee",
   "metadata": {},
   "outputs": [],
   "source": [
    "import os\n",
    "import csv\n",
    "from PIL import Image"
   ]
  },
  {
   "cell_type": "code",
   "execution_count": 2,
   "id": "5d2ef512",
   "metadata": {},
   "outputs": [],
   "source": [
    "# 上下比例\n",
    "A = 2\n",
    "B = 1\n",
    "datasets = ['test', 'train', 'val']"
   ]
  },
  {
   "cell_type": "code",
   "execution_count": 3,
   "id": "b2436ad9",
   "metadata": {},
   "outputs": [
    {
     "name": "stdout",
     "output_type": "stream",
     "text": [
      "C:\\Users\\MAGIC\\Ching\\survey\\plan\\rawdata_all\\7types_v2\\xfc\\frcnn06_craft04\\xfcs\\val\\labels.csv 已經儲存完成\n"
     ]
    }
   ],
   "source": [
    "# 定義資料夾路徑\n",
    "# IOU = 'IoU01'\n",
    "IOU = 'frcnn06_craft04'\n",
    "\n",
    "for dataset in datasets:\n",
    "    \n",
    "    # frcnn03_craft02\n",
    "    input_folder = f'C:\\\\Users\\\\MAGIC\\\\Ching\\\\survey\\\\plan\\\\rawdata_all\\\\7types_v2\\\\xfc\\\\{IOU}\\\\xfc\\\\{dataset}'\n",
    "    output_folder = f\"C:\\\\Users\\\\MAGIC\\\\Ching\\\\survey\\\\plan\\\\rawdata_all\\\\7types_v2\\\\xfc\\\\{IOU}\\\\xfcs\\\\{dataset}\"\n",
    "    label_file = f'C:\\\\Users\\\\MAGIC\\\\Ching\\\\survey\\\\plan\\\\rawdata_all\\\\7types_v2\\\\xfc\\\\{IOU}\\\\xfc\\\\{dataset}\\\\labels.csv'\n",
    "    \n",
    "#     # IoU01\n",
    "#     input_folder = f'C:\\\\Users\\\\MAGIC\\\\Ching\\\\survey\\\\plan\\\\rawdata_all\\\\7types_v2\\\\xf\\\\{IOU}\\\\xf\\\\{dataset}'\n",
    "#     output_folder = f\"C:\\\\Users\\\\MAGIC\\\\Ching\\\\survey\\\\plan\\\\rawdata_all\\\\7types_v2\\\\xf\\\\{IOU}\\\\xfs\\\\{dataset}\"\n",
    "#     label_file = f'C:\\\\Users\\\\MAGIC\\\\Ching\\\\survey\\\\plan\\\\rawdata_all\\\\7types_v2\\\\xf\\\\{IOU}\\\\xf\\\\{dataset}\\\\labels.csv'\n",
    "\n",
    "    # 創建新資料夾\n",
    "    os.makedirs(output_folder, exist_ok=True)\n",
    "\n",
    "    # 讀取標記檔\n",
    "    with open(label_file, 'r', encoding='big5') as csvfile:\n",
    "        reader = csv.DictReader(csvfile)\n",
    "        labels = {row['filename']: row['words'] for row in reader}\n",
    "\n",
    "    # 遍歷影像資料夾\n",
    "    for filename in os.listdir(input_folder):\n",
    "        if filename.endswith('.jpg'):\n",
    "            # 讀取影像\n",
    "            image_path = os.path.join(input_folder, filename)\n",
    "            image = Image.open(image_path)\n",
    "#             if int(filename.split('.')[0]) <= 23261:\n",
    "#                 image = image.rotate(-90, expand=True)\n",
    "#                 image.show()\n",
    "            width, height = image.size\n",
    "            upper_part = image.crop((0, 0, width, int(height * A / (A+B))))\n",
    "            output_path = os.path.join(output_folder, filename)\n",
    "            upper_part.save(output_path)\n",
    "\n",
    "    # 創建新的CSV檔案儲存新資料夾中的資料\n",
    "    output_csv_path = os.path.join(output_folder, 'labels.csv')\n",
    "    with open(output_csv_path, 'w', newline='', encoding='big5') as csvfile:\n",
    "        fieldnames = ['filename', 'words']\n",
    "        writer = csv.DictWriter(csvfile, fieldnames=fieldnames)\n",
    "        writer.writeheader()\n",
    "\n",
    "        # 寫入每個檔案的標籤\n",
    "        for filename in os.listdir(output_folder):\n",
    "            if filename.endswith('.jpg'):\n",
    "                writer.writerow({'filename': filename, 'words': labels.get(filename, '')})\n",
    "print(f'{output_csv_path} 已經儲存完成')"
   ]
  },
  {
   "cell_type": "code",
   "execution_count": 4,
   "id": "4759a126",
   "metadata": {},
   "outputs": [],
   "source": [
    "import pandas as pd\n",
    "import os\n",
    "\n",
    "datasets = ['train', 'val', 'test']\n",
    "\n",
    "for dataset in datasets:\n",
    "    # 設定資料夾路徑和CSV檔案路徑\n",
    "    folder_path = f'C:\\\\Users\\\\MAGIC\\\\Ching\\\\survey\\\\plan\\\\rawdata_all\\\\7types\\\\fcs\\\\{dataset}'\n",
    "    file_path = f'C:\\\\Users\\\\MAGIC\\\\Ching\\\\survey\\\\plan\\\\rawdata_all\\\\7types\\\\fcs\\\\{dataset}\\\\labels.csv'\n",
    "\n",
    "    # 讀取CSV檔案\n",
    "    with open(file_path, 'r', encoding='big5') as file:\n",
    "        # 跳過第一行\n",
    "        next(file)\n",
    "\n",
    "        # 創建一個空的字典來存放影像檔案名稱和對應的文字\n",
    "        csv_data = {}\n",
    "\n",
    "        # 遍歷CSV檔案的每一行\n",
    "        for line in file:\n",
    "            # 切割每一行的資料\n",
    "            parts = line.strip().split(',')\n",
    "\n",
    "            # 取得影像檔案名稱和文字\n",
    "            filename, words = parts[0], parts[1]\n",
    "\n",
    "            # 將資料存入字典\n",
    "            csv_data[filename] = words\n",
    "\n",
    "    # 檢查影像是否存在於資料夾中\n",
    "    for root, dirs, files in os.walk(folder_path):\n",
    "        for file in files:\n",
    "            if file.endswith(('.jpg', '.png')):\n",
    "\n",
    "                # 檢查影像檔案是否在字典中\n",
    "                if file in csv_data:\n",
    "                    break\n",
    "                    print(f\"影像檔案 {file} 存在於CSV檔案中，對應文字為: {csv_data[file]}\")\n",
    "                else:\n",
    "                    print(f\"影像檔案 {file} 不存在於CSV檔案中.\")\n",
    "    # 檢查CSV檔案中的檔案是否存在於資料夾中\n",
    "    for filename in csv_data.keys():\n",
    "        if not os.path.exists(os.path.join(folder_path, filename)):\n",
    "            print(f\"CSV檔案中的檔案 {filename} 不存在於資料夾中.\")\n"
   ]
  },
  {
   "cell_type": "code",
   "execution_count": null,
   "id": "fd370b5c",
   "metadata": {},
   "outputs": [],
   "source": []
  },
  {
   "cell_type": "code",
   "execution_count": null,
   "id": "5314b341",
   "metadata": {},
   "outputs": [],
   "source": []
  }
 ],
 "metadata": {
  "kernelspec": {
   "display_name": "Python 3 (ipykernel)",
   "language": "python",
   "name": "python3"
  },
  "language_info": {
   "codemirror_mode": {
    "name": "ipython",
    "version": 3
   },
   "file_extension": ".py",
   "mimetype": "text/x-python",
   "name": "python",
   "nbconvert_exporter": "python",
   "pygments_lexer": "ipython3",
   "version": "3.9.16"
  },
  "toc": {
   "base_numbering": 1,
   "nav_menu": {},
   "number_sections": true,
   "sideBar": true,
   "skip_h1_title": false,
   "title_cell": "Table of Contents",
   "title_sidebar": "Contents",
   "toc_cell": false,
   "toc_position": {},
   "toc_section_display": true,
   "toc_window_display": false
  }
 },
 "nbformat": 4,
 "nbformat_minor": 5
}
