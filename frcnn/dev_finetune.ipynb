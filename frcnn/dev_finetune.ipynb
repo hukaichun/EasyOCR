{
 "cells": [
  {
   "cell_type": "code",
   "execution_count": 1,
   "metadata": {},
   "outputs": [],
   "source": [
    "import logging\n",
    "\n",
    "import torch\n",
    "\n",
    "from model import FRCNNDetector\n",
    "import finetune as FT\n",
    "import dataset as DS\n",
    "\n"
   ]
  },
  {
   "cell_type": "code",
   "execution_count": 2,
   "metadata": {},
   "outputs": [],
   "source": [
    "\n",
    "logging.basicConfig(level=logging.WARNING)\n",
    "FT.LOGGER.setLevel(logging.INFO)"
   ]
  },
  {
   "cell_type": "code",
   "execution_count": 3,
   "metadata": {},
   "outputs": [],
   "source": [
    "classes = ['1', '2', '3', '4', '5', 'blue', 'brown', 'green', 'red', 'yellow', 'parking', 'limit_h', 'limit_speed' ,'14', '15']\n",
    "model_path = \"./fasterrcnn_20231119.pt-35\"\n",
    "detector = FRCNNDetector(classes, model_path=model_path)"
   ]
  },
  {
   "cell_type": "code",
   "execution_count": 4,
   "metadata": {},
   "outputs": [],
   "source": [
    "data_set_path = \"./all_data/val\"\n",
    "# test_loader = DS.load_dataset(data_set_path, \"target_2048_2448.json\")\n",
    "test_loader = DS.load_dataset(data_set_path, \"target_2452_2056.json\", batch_size=6)"
   ]
  },
  {
   "cell_type": "code",
   "execution_count": 5,
   "metadata": {},
   "outputs": [],
   "source": [
    "optimizer = torch.optim.Adadelta(detector.parameters())"
   ]
  },
  {
   "cell_type": "code",
   "execution_count": 6,
   "metadata": {},
   "outputs": [
    {
     "name": "stderr",
     "output_type": "stream",
     "text": [
      "training phase:   0%|          | 0/31 [00:00<?, ?it/s]"
     ]
    },
    {
     "name": "stderr",
     "output_type": "stream",
     "text": [
      "training phase:   0%|          | 0/31 [00:17<?, ?it/s]\n",
      "INFO:finetune:[finetune_epoch]\n",
      "+-----------------+--------------+-----------------+------------------+\n",
      "| loss_classifier | loss_box_reg | loss_objectness | loss_rpn_box_reg |\n",
      "+-----------------+--------------+-----------------+------------------+\n",
      "|      0.007      |     0.0      |      0.583      |      0.408       |\n",
      "+-----------------+--------------+-----------------+------------------+\n"
     ]
    },
    {
     "data": {
      "text/plain": [
       "{'loss_classifier': array([0.00668953], dtype=float32),\n",
       " 'loss_box_reg': array([7.113547e-05], dtype=float32),\n",
       " 'loss_objectness': array([0.5831709], dtype=float32),\n",
       " 'loss_rpn_box_reg': array([0.4081484], dtype=float32)}"
      ]
     },
     "execution_count": 6,
     "metadata": {},
     "output_type": "execute_result"
    }
   ],
   "source": [
    "FT.finetune_epoch(detector, optimizer, test_loader, 5.)"
   ]
  }
 ],
 "metadata": {
  "kernelspec": {
   "display_name": "pyENV",
   "language": "python",
   "name": "python3"
  },
  "language_info": {
   "codemirror_mode": {
    "name": "ipython",
    "version": 3
   },
   "file_extension": ".py",
   "mimetype": "text/x-python",
   "name": "python",
   "nbconvert_exporter": "python",
   "pygments_lexer": "ipython3",
   "version": "3.8.10"
  }
 },
 "nbformat": 4,
 "nbformat_minor": 2
}
