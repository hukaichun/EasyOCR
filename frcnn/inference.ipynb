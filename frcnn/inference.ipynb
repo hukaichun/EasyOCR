{
 "cells": [
  {
   "cell_type": "code",
   "execution_count": 1,
   "metadata": {},
   "outputs": [],
   "source": [
    "import tqdm\n",
    "import torch\n",
    "\n",
    "from model import FRCNNDetector, DetectedImage\n",
    "import dataset as DS"
   ]
  },
  {
   "cell_type": "code",
   "execution_count": 2,
   "metadata": {},
   "outputs": [],
   "source": [
    "classes = ['1', '2', '3', '4', '5', 'blue', 'brown', 'green', 'red', 'yellow', 'parking', 'limit_h', 'limit_speed' ,'14', '15']\n",
    "model_path = \"./fasterrcnn_20231119.pt-35\"\n",
    "detector = FRCNNDetector(classes, model_path=model_path)\n",
    "\n",
    "data_set_path = \"./all_data/val\"\n",
    "# test_loader = DS.load_dataset(data_set_path, \"target_2048_2448.json\")\n",
    "test_loader = DS.load_dataset(data_set_path, \"target_2452_2056.json\", batch_size=32)"
   ]
  },
  {
   "cell_type": "code",
   "execution_count": 3,
   "metadata": {},
   "outputs": [],
   "source": [
    "from torchmetrics.detection.mean_ap import MeanAveragePrecision\n",
    "\n",
    "metric = MeanAveragePrecision()"
   ]
  },
  {
   "cell_type": "code",
   "execution_count": 4,
   "metadata": {},
   "outputs": [
    {
     "name": "stderr",
     "output_type": "stream",
     "text": [
      " 17%|█▋        | 1/6 [00:59<04:56, 59.21s/it]"
     ]
    }
   ],
   "source": [
    "with torch.no_grad():\n",
    "    detector.eval()\n",
    "    for images, targets in tqdm.tqdm(test_loader):\n",
    "        predicts = detector(images)\n",
    "        metric.update(predicts, targets)"
   ]
  }
 ],
 "metadata": {
  "kernelspec": {
   "display_name": "pyENV",
   "language": "python",
   "name": "python3"
  },
  "language_info": {
   "codemirror_mode": {
    "name": "ipython",
    "version": 3
   },
   "file_extension": ".py",
   "mimetype": "text/x-python",
   "name": "python",
   "nbconvert_exporter": "python",
   "pygments_lexer": "ipython3",
   "version": "3.8.10"
  }
 },
 "nbformat": 4,
 "nbformat_minor": 2
}
