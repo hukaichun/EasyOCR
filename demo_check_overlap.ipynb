{
 "cells": [
  {
   "cell_type": "code",
   "execution_count": 1,
   "metadata": {},
   "outputs": [],
   "source": [
    "import numpy as np\n",
    "import pandas as pd\n",
    "\n",
    "from street_signs_identify.utils import check_overlap as co"
   ]
  },
  {
   "cell_type": "code",
   "execution_count": 2,
   "metadata": {},
   "outputs": [],
   "source": [
    "this_df = pd.DataFrame()\n",
    "box_list_this = np.asarray([[0, 0, 2, 2], \n",
    "              [0, 3, 2, 5]])\n",
    "this_df.loc[:, [\"x0\", \"y0\", \"x1\", \"y1\"]] = box_list_this\n",
    "\n",
    "that_df = pd.DataFrame()\n",
    "box_list_that = np.asarray([[1, 1.5, 3, 3.5], \n",
    "              [1, 4, 3, 6],\n",
    "              [4, 0, 6, 2]])\n",
    "that_df.loc[:, [\"x0\", \"y0\", \"x1\", \"y1\"]] = box_list_that"
   ]
  },
  {
   "cell_type": "code",
   "execution_count": 3,
   "metadata": {},
   "outputs": [],
   "source": [
    "idx_this, idx_that = co.check_box_overlap(this_df, that_df)"
   ]
  },
  {
   "cell_type": "code",
   "execution_count": 4,
   "metadata": {},
   "outputs": [
    {
     "name": "stdout",
     "output_type": "stream",
     "text": [
      "Index([0, 1], dtype='int64')\n",
      "POLYGON ((2 0, 2 2, 0 2, 0 0, 2 0))\n",
      "POLYGON ((3 1.5, 3 3.5, 1 3.5, 1 1.5, 3 1.5))\n",
      "POLYGON ((2 3, 2 5, 0 5, 0 3, 2 3))\n",
      "POLYGON ((3 1.5, 3 3.5, 1 3.5, 1 1.5, 3 1.5))\n",
      "POLYGON ((2 3, 2 5, 0 5, 0 3, 2 3))\n",
      "POLYGON ((3 4, 3 6, 1 6, 1 4, 3 4))\n"
     ]
    },
    {
     "data": {
      "text/html": [
       "<div>\n",
       "<style scoped>\n",
       "    .dataframe tbody tr th:only-of-type {\n",
       "        vertical-align: middle;\n",
       "    }\n",
       "\n",
       "    .dataframe tbody tr th {\n",
       "        vertical-align: top;\n",
       "    }\n",
       "\n",
       "    .dataframe thead th {\n",
       "        text-align: right;\n",
       "    }\n",
       "</style>\n",
       "<table border=\"1\" class=\"dataframe\">\n",
       "  <thead>\n",
       "    <tr style=\"text-align: right;\">\n",
       "      <th></th>\n",
       "      <th>index_this</th>\n",
       "      <th>index_that</th>\n",
       "      <th>area</th>\n",
       "    </tr>\n",
       "  </thead>\n",
       "  <tbody>\n",
       "    <tr>\n",
       "      <th>0</th>\n",
       "      <td>0</td>\n",
       "      <td>0</td>\n",
       "      <td>0.5</td>\n",
       "    </tr>\n",
       "    <tr>\n",
       "      <th>1</th>\n",
       "      <td>1</td>\n",
       "      <td>0</td>\n",
       "      <td>0.5</td>\n",
       "    </tr>\n",
       "    <tr>\n",
       "      <th>2</th>\n",
       "      <td>1</td>\n",
       "      <td>1</td>\n",
       "      <td>1.0</td>\n",
       "    </tr>\n",
       "  </tbody>\n",
       "</table>\n",
       "</div>"
      ],
      "text/plain": [
       "   index_this  index_that  area\n",
       "0           0           0   0.5\n",
       "1           1           0   0.5\n",
       "2           1           1   1.0"
      ]
     },
     "execution_count": 4,
     "metadata": {},
     "output_type": "execute_result"
    }
   ],
   "source": [
    "co.check_poly_overlap(this_df, idx_this, that_df, idx_that)"
   ]
  }
 ],
 "metadata": {
  "kernelspec": {
   "display_name": "pyENV",
   "language": "python",
   "name": "python3"
  },
  "language_info": {
   "codemirror_mode": {
    "name": "ipython",
    "version": 3
   },
   "file_extension": ".py",
   "mimetype": "text/x-python",
   "name": "python",
   "nbconvert_exporter": "python",
   "pygments_lexer": "ipython3",
   "version": "3.8.10"
  }
 },
 "nbformat": 4,
 "nbformat_minor": 2
}
